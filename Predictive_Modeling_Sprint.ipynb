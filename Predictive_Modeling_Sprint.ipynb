{
  "nbformat": 4,
  "nbformat_minor": 0,
  "metadata": {
    "colab": {
      "name": "Predictive Modeling Sprint.ipynb",
      "version": "0.3.2",
      "provenance": [],
      "include_colab_link": true
    },
    "kernelspec": {
      "name": "python3",
      "display_name": "Python 3"
    }
  },
  "cells": [
    {
      "cell_type": "markdown",
      "metadata": {
        "id": "view-in-github",
        "colab_type": "text"
      },
      "source": [
        "<a href=\"https://colab.research.google.com/github/tbradshaw91/Predictive-Modeling-Sprint_Challenge/blob/master/Predictive_Modeling_Sprint.ipynb\" target=\"_parent\"><img src=\"https://colab.research.google.com/assets/colab-badge.svg\" alt=\"Open In Colab\"/></a>"
      ]
    },
    {
      "cell_type": "markdown",
      "metadata": {
        "id": "w0xIoAfPO_UF",
        "colab_type": "text"
      },
      "source": [
        "![alt text](https://i.pinimg.com/originals/bb/ca/35/bbca3547ca805f09f12fa52d8f010be1.png)"
      ]
    },
    {
      "cell_type": "markdown",
      "metadata": {
        "id": "hjc7mdcc4Qe4",
        "colab_type": "text"
      },
      "source": [
        "## **Imports**"
      ]
    },
    {
      "cell_type": "code",
      "metadata": {
        "id": "iQTd1_LXyJe4",
        "colab_type": "code",
        "colab": {
          "base_uri": "https://localhost:8080/",
          "height": 292
        },
        "outputId": "916ccd6b-4d0e-4562-835f-ff37649f2681"
      },
      "source": [
        "!pip install category_encoders"
      ],
      "execution_count": 1,
      "outputs": [
        {
          "output_type": "stream",
          "text": [
            "Collecting category_encoders\n",
            "\u001b[?25l  Downloading https://files.pythonhosted.org/packages/6e/a1/f7a22f144f33be78afeb06bfa78478e8284a64263a3c09b1ef54e673841e/category_encoders-2.0.0-py2.py3-none-any.whl (87kB)\n",
            "\u001b[K     |████████████████████████████████| 92kB 5.1MB/s \n",
            "\u001b[?25hRequirement already satisfied: pandas>=0.21.1 in /usr/local/lib/python3.6/dist-packages (from category_encoders) (0.24.2)\n",
            "Requirement already satisfied: numpy>=1.11.3 in /usr/local/lib/python3.6/dist-packages (from category_encoders) (1.16.3)\n",
            "Requirement already satisfied: scikit-learn>=0.20.0 in /usr/local/lib/python3.6/dist-packages (from category_encoders) (0.21.1)\n",
            "Requirement already satisfied: statsmodels>=0.6.1 in /usr/local/lib/python3.6/dist-packages (from category_encoders) (0.9.0)\n",
            "Requirement already satisfied: scipy>=0.19.0 in /usr/local/lib/python3.6/dist-packages (from category_encoders) (1.3.0)\n",
            "Requirement already satisfied: patsy>=0.4.1 in /usr/local/lib/python3.6/dist-packages (from category_encoders) (0.5.1)\n",
            "Requirement already satisfied: pytz>=2011k in /usr/local/lib/python3.6/dist-packages (from pandas>=0.21.1->category_encoders) (2018.9)\n",
            "Requirement already satisfied: python-dateutil>=2.5.0 in /usr/local/lib/python3.6/dist-packages (from pandas>=0.21.1->category_encoders) (2.5.3)\n",
            "Requirement already satisfied: joblib>=0.11 in /usr/local/lib/python3.6/dist-packages (from scikit-learn>=0.20.0->category_encoders) (0.12.5)\n",
            "Requirement already satisfied: six in /usr/local/lib/python3.6/dist-packages (from patsy>=0.4.1->category_encoders) (1.12.0)\n",
            "Installing collected packages: category-encoders\n",
            "Successfully installed category-encoders-2.0.0\n"
          ],
          "name": "stdout"
        }
      ]
    },
    {
      "cell_type": "markdown",
      "metadata": {
        "id": "iBy22LwcFB1I",
        "colab_type": "text"
      },
      "source": [
        "### All of the libraries..may or may not use them all "
      ]
    },
    {
      "cell_type": "code",
      "metadata": {
        "id": "_ZVT6EX_5qfF",
        "colab_type": "code",
        "colab": {}
      },
      "source": [
        "# All the imports..just because I am a neat freak\n",
        "%matplotlib inline\n",
        "import warnings\n",
        "from sklearn.exceptions import DataConversionWarning\n",
        "import category_encoders as ce\n",
        "from category_encoders.hashing import HashingEncoder\n",
        "from category_encoders.binary import BinaryEncoder\n",
        "import matplotlib.pyplot as plt\n",
        "import pandas as pd\n",
        "import numpy as np\n",
        "import seaborn as sns\n",
        "from numpy.random import choice\n",
        "import time\n",
        "# Sklearn Model Selection\n",
        "from sklearn.model_selection import train_test_split\n",
        "from sklearn.model_selection import cross_validate\n",
        "from sklearn.model_selection import KFold\n",
        "from sklearn.model_selection import GridSearchCV\n",
        "from sklearn.model_selection import cross_val_score\n",
        "# Sklearn Preprocessing\n",
        "from sklearn.preprocessing import Imputer\n",
        "from sklearn.preprocessing import LabelEncoder, OneHotEncoder, OrdinalEncoder, RobustScaler, StandardScaler, PolynomialFeatures\n",
        "# Sklearn Pipeline\n",
        "from sklearn.pipeline import make_pipeline, Pipeline\n",
        "# Sklearn Feature Selection\n",
        "from sklearn.feature_selection import f_classif, chi2, SelectKBest\n",
        "# Sklearn Linear Model\n",
        "from sklearn.linear_model import LogisticRegression\n",
        "from sklearn.linear_model import RidgeClassifier\n",
        "# Sklearn RFC\n",
        "from sklearn.ensemble import RandomForestClassifier\n",
        "# Tree\n",
        "from sklearn import tree\n",
        "# Sklearn Metrics\n",
        "from sklearn.metrics import mean_absolute_error, accuracy_score, recall_score, roc_auc_score, confusion_matrix\n",
        "from sklearn.metrics import classification_report\n",
        "from sklearn.metrics import f1_score\n",
        "# Sklearn Impute\n",
        "from sklearn.impute import SimpleImputer\n",
        "from sklearn.compose import ColumnTransformer\n",
        "# XGB \n",
        "from xgboost import XGBClassifier\n",
        "# Eliminate Warnings\n",
        "warnings.filterwarnings(action='ignore', category=DataConversionWarning)\n",
        "warnings.filterwarnings(action='ignore', category=FutureWarning)\n",
        "warnings.filterwarnings(action='ignore', category=RuntimeWarning)\n",
        "warnings.filterwarnings(action='ignore', category=DeprecationWarning)\n",
        "warnings.filterwarnings(action='ignore', category=UserWarning)\n",
        "# Setting Display \n",
        "pd.set_option('display.max_rows', 500)\n",
        "pd.set_option('display.max_columns', 500)\n",
        "pd.set_option('display.width', 500)"
      ],
      "execution_count": 0,
      "outputs": []
    },
    {
      "cell_type": "markdown",
      "metadata": {
        "id": "79X8LBw4FNrQ",
        "colab_type": "text"
      },
      "source": [
        "### **Training Features, Training Labels and Test Features Data**"
      ]
    },
    {
      "cell_type": "code",
      "metadata": {
        "id": "oogV9qO17Lob",
        "colab_type": "code",
        "colab": {}
      },
      "source": [
        "test_features = pd.read_csv('https://raw.githubusercontent.com/tbradshaw91/Predictive-Modeling-Sprint_Challenge/master/test_features.csv')\n",
        "train_features = pd.read_csv('https://raw.githubusercontent.com/tbradshaw91/Predictive-Modeling-Sprint_Challenge/master/train_features.csv')\n",
        "train_labels = pd.read_csv('https://raw.githubusercontent.com/tbradshaw91/Predictive-Modeling-Sprint_Challenge/master/train_labels.csv')"
      ],
      "execution_count": 0,
      "outputs": []
    },
    {
      "cell_type": "markdown",
      "metadata": {
        "id": "XbUHTNhI8YZE",
        "colab_type": "text"
      },
      "source": [
        "## **Basic Data Observations**"
      ]
    },
    {
      "cell_type": "code",
      "metadata": {
        "id": "RV-9IfMo8gbt",
        "colab_type": "code",
        "outputId": "a3e58e32-d8a2-4a88-9968-39c6c8caa65a",
        "colab": {
          "base_uri": "https://localhost:8080/",
          "height": 199
        }
      },
      "source": [
        "# I don't need to see all 5..\n",
        "train_features.head(2)"
      ],
      "execution_count": 0,
      "outputs": [
        {
          "output_type": "execute_result",
          "data": {
            "text/html": [
              "<div>\n",
              "<style scoped>\n",
              "    .dataframe tbody tr th:only-of-type {\n",
              "        vertical-align: middle;\n",
              "    }\n",
              "\n",
              "    .dataframe tbody tr th {\n",
              "        vertical-align: top;\n",
              "    }\n",
              "\n",
              "    .dataframe thead th {\n",
              "        text-align: right;\n",
              "    }\n",
              "</style>\n",
              "<table border=\"1\" class=\"dataframe\">\n",
              "  <thead>\n",
              "    <tr style=\"text-align: right;\">\n",
              "      <th></th>\n",
              "      <th>id</th>\n",
              "      <th>amount_tsh</th>\n",
              "      <th>date_recorded</th>\n",
              "      <th>funder</th>\n",
              "      <th>gps_height</th>\n",
              "      <th>installer</th>\n",
              "      <th>longitude</th>\n",
              "      <th>latitude</th>\n",
              "      <th>wpt_name</th>\n",
              "      <th>num_private</th>\n",
              "      <th>basin</th>\n",
              "      <th>subvillage</th>\n",
              "      <th>region</th>\n",
              "      <th>region_code</th>\n",
              "      <th>district_code</th>\n",
              "      <th>lga</th>\n",
              "      <th>ward</th>\n",
              "      <th>population</th>\n",
              "      <th>public_meeting</th>\n",
              "      <th>recorded_by</th>\n",
              "      <th>scheme_management</th>\n",
              "      <th>scheme_name</th>\n",
              "      <th>permit</th>\n",
              "      <th>construction_year</th>\n",
              "      <th>extraction_type</th>\n",
              "      <th>extraction_type_group</th>\n",
              "      <th>extraction_type_class</th>\n",
              "      <th>management</th>\n",
              "      <th>management_group</th>\n",
              "      <th>payment</th>\n",
              "      <th>payment_type</th>\n",
              "      <th>water_quality</th>\n",
              "      <th>quality_group</th>\n",
              "      <th>quantity</th>\n",
              "      <th>quantity_group</th>\n",
              "      <th>source</th>\n",
              "      <th>source_type</th>\n",
              "      <th>source_class</th>\n",
              "      <th>waterpoint_type</th>\n",
              "      <th>waterpoint_type_group</th>\n",
              "    </tr>\n",
              "  </thead>\n",
              "  <tbody>\n",
              "    <tr>\n",
              "      <th>0</th>\n",
              "      <td>69572</td>\n",
              "      <td>6000.0</td>\n",
              "      <td>2011-03-14</td>\n",
              "      <td>Roman</td>\n",
              "      <td>1390</td>\n",
              "      <td>Roman</td>\n",
              "      <td>34.938093</td>\n",
              "      <td>-9.856322</td>\n",
              "      <td>none</td>\n",
              "      <td>0</td>\n",
              "      <td>Lake Nyasa</td>\n",
              "      <td>Mnyusi B</td>\n",
              "      <td>Iringa</td>\n",
              "      <td>11</td>\n",
              "      <td>5</td>\n",
              "      <td>Ludewa</td>\n",
              "      <td>Mundindi</td>\n",
              "      <td>109</td>\n",
              "      <td>True</td>\n",
              "      <td>GeoData Consultants Ltd</td>\n",
              "      <td>VWC</td>\n",
              "      <td>Roman</td>\n",
              "      <td>False</td>\n",
              "      <td>1999</td>\n",
              "      <td>gravity</td>\n",
              "      <td>gravity</td>\n",
              "      <td>gravity</td>\n",
              "      <td>vwc</td>\n",
              "      <td>user-group</td>\n",
              "      <td>pay annually</td>\n",
              "      <td>annually</td>\n",
              "      <td>soft</td>\n",
              "      <td>good</td>\n",
              "      <td>enough</td>\n",
              "      <td>enough</td>\n",
              "      <td>spring</td>\n",
              "      <td>spring</td>\n",
              "      <td>groundwater</td>\n",
              "      <td>communal standpipe</td>\n",
              "      <td>communal standpipe</td>\n",
              "    </tr>\n",
              "    <tr>\n",
              "      <th>1</th>\n",
              "      <td>8776</td>\n",
              "      <td>0.0</td>\n",
              "      <td>2013-03-06</td>\n",
              "      <td>Grumeti</td>\n",
              "      <td>1399</td>\n",
              "      <td>GRUMETI</td>\n",
              "      <td>34.698766</td>\n",
              "      <td>-2.147466</td>\n",
              "      <td>Zahanati</td>\n",
              "      <td>0</td>\n",
              "      <td>Lake Victoria</td>\n",
              "      <td>Nyamara</td>\n",
              "      <td>Mara</td>\n",
              "      <td>20</td>\n",
              "      <td>2</td>\n",
              "      <td>Serengeti</td>\n",
              "      <td>Natta</td>\n",
              "      <td>280</td>\n",
              "      <td>NaN</td>\n",
              "      <td>GeoData Consultants Ltd</td>\n",
              "      <td>Other</td>\n",
              "      <td>NaN</td>\n",
              "      <td>True</td>\n",
              "      <td>2010</td>\n",
              "      <td>gravity</td>\n",
              "      <td>gravity</td>\n",
              "      <td>gravity</td>\n",
              "      <td>wug</td>\n",
              "      <td>user-group</td>\n",
              "      <td>never pay</td>\n",
              "      <td>never pay</td>\n",
              "      <td>soft</td>\n",
              "      <td>good</td>\n",
              "      <td>insufficient</td>\n",
              "      <td>insufficient</td>\n",
              "      <td>rainwater harvesting</td>\n",
              "      <td>rainwater harvesting</td>\n",
              "      <td>surface</td>\n",
              "      <td>communal standpipe</td>\n",
              "      <td>communal standpipe</td>\n",
              "    </tr>\n",
              "  </tbody>\n",
              "</table>\n",
              "</div>"
            ],
            "text/plain": [
              "      id  amount_tsh date_recorded   funder  gps_height installer  longitude  latitude  wpt_name  num_private          basin subvillage  region  region_code  district_code        lga      ward  population public_meeting              recorded_by scheme_management scheme_name permit  construction_year extraction_type extraction_type_group extraction_type_class management management_group       payment payment_type water_quality quality_group      quantity quantity_group                source  \\\n",
              "0  69572      6000.0    2011-03-14    Roman        1390     Roman  34.938093 -9.856322      none            0     Lake Nyasa   Mnyusi B  Iringa           11              5     Ludewa  Mundindi         109           True  GeoData Consultants Ltd               VWC       Roman  False               1999         gravity               gravity               gravity        vwc       user-group  pay annually     annually          soft          good        enough         enough                spring   \n",
              "1   8776         0.0    2013-03-06  Grumeti        1399   GRUMETI  34.698766 -2.147466  Zahanati            0  Lake Victoria    Nyamara    Mara           20              2  Serengeti     Natta         280            NaN  GeoData Consultants Ltd             Other         NaN   True               2010         gravity               gravity               gravity        wug       user-group     never pay    never pay          soft          good  insufficient   insufficient  rainwater harvesting   \n",
              "\n",
              "            source_type source_class     waterpoint_type waterpoint_type_group  \n",
              "0                spring  groundwater  communal standpipe    communal standpipe  \n",
              "1  rainwater harvesting      surface  communal standpipe    communal standpipe  "
            ]
          },
          "metadata": {
            "tags": []
          },
          "execution_count": 310
        }
      ]
    },
    {
      "cell_type": "code",
      "metadata": {
        "id": "yLUoldf2CLHD",
        "colab_type": "code",
        "outputId": "a3dcb19b-4343-40d7-d1bc-6730e820a549",
        "colab": {
          "base_uri": "https://localhost:8080/",
          "height": 34
        }
      },
      "source": [
        "train_features.shape, test_features.shape, train_labels.shape"
      ],
      "execution_count": 0,
      "outputs": [
        {
          "output_type": "execute_result",
          "data": {
            "text/plain": [
              "((59400, 40), (14358, 40), (59400, 2))"
            ]
          },
          "metadata": {
            "tags": []
          },
          "execution_count": 311
        }
      ]
    },
    {
      "cell_type": "code",
      "metadata": {
        "id": "V4fg5iwqXSYq",
        "colab_type": "code",
        "outputId": "b99118f0-a024-4eb9-fa75-17be2017464b",
        "colab": {
          "base_uri": "https://localhost:8080/",
          "height": 173
        }
      },
      "source": [
        "train_labels.describe(include='object')"
      ],
      "execution_count": 0,
      "outputs": [
        {
          "output_type": "execute_result",
          "data": {
            "text/html": [
              "<div>\n",
              "<style scoped>\n",
              "    .dataframe tbody tr th:only-of-type {\n",
              "        vertical-align: middle;\n",
              "    }\n",
              "\n",
              "    .dataframe tbody tr th {\n",
              "        vertical-align: top;\n",
              "    }\n",
              "\n",
              "    .dataframe thead th {\n",
              "        text-align: right;\n",
              "    }\n",
              "</style>\n",
              "<table border=\"1\" class=\"dataframe\">\n",
              "  <thead>\n",
              "    <tr style=\"text-align: right;\">\n",
              "      <th></th>\n",
              "      <th>status_group</th>\n",
              "    </tr>\n",
              "  </thead>\n",
              "  <tbody>\n",
              "    <tr>\n",
              "      <th>count</th>\n",
              "      <td>59400</td>\n",
              "    </tr>\n",
              "    <tr>\n",
              "      <th>unique</th>\n",
              "      <td>3</td>\n",
              "    </tr>\n",
              "    <tr>\n",
              "      <th>top</th>\n",
              "      <td>functional</td>\n",
              "    </tr>\n",
              "    <tr>\n",
              "      <th>freq</th>\n",
              "      <td>32259</td>\n",
              "    </tr>\n",
              "  </tbody>\n",
              "</table>\n",
              "</div>"
            ],
            "text/plain": [
              "       status_group\n",
              "count         59400\n",
              "unique            3\n",
              "top      functional\n",
              "freq          32259"
            ]
          },
          "metadata": {
            "tags": []
          },
          "execution_count": 312
        }
      ]
    },
    {
      "cell_type": "code",
      "metadata": {
        "id": "poW39ctiYDAR",
        "colab_type": "code",
        "outputId": "54b0f3f9-b4db-465b-cda9-1e6fc265b219",
        "colab": {
          "base_uri": "https://localhost:8080/",
          "height": 85
        }
      },
      "source": [
        "# Based on this I can assume that 54% of my training label data is functional\n",
        "# That is good news\n",
        "train_labels['status_group'].value_counts(normalize=True)"
      ],
      "execution_count": 0,
      "outputs": [
        {
          "output_type": "execute_result",
          "data": {
            "text/plain": [
              "functional                 0.543081\n",
              "non functional             0.384242\n",
              "functional needs repair    0.072677\n",
              "Name: status_group, dtype: float64"
            ]
          },
          "metadata": {
            "tags": []
          },
          "execution_count": 313
        }
      ]
    },
    {
      "cell_type": "markdown",
      "metadata": {
        "id": "dy9x7V72GINZ",
        "colab_type": "text"
      },
      "source": [
        "### Merging Training Features and Train Labels "
      ]
    },
    {
      "cell_type": "code",
      "metadata": {
        "id": "DuwMs3qEYhEY",
        "colab_type": "code",
        "colab": {}
      },
      "source": [
        "# Next step is to merge\n",
        "merged = pd.DataFrame.merge(train_labels, train_features)"
      ],
      "execution_count": 0,
      "outputs": []
    },
    {
      "cell_type": "markdown",
      "metadata": {
        "id": "ZBvEw4pEcPYa",
        "colab_type": "text"
      },
      "source": [
        "## **Data Wrangling**"
      ]
    },
    {
      "cell_type": "markdown",
      "metadata": {
        "id": "BoCMSw9RHV1N",
        "colab_type": "text"
      },
      "source": [
        "### Handling the Nulls "
      ]
    },
    {
      "cell_type": "code",
      "metadata": {
        "id": "RcqM5U3ac0aG",
        "colab_type": "code",
        "outputId": "5e1d58da-a1ba-484e-ace9-ee44259df387",
        "colab": {
          "base_uri": "https://localhost:8080/",
          "height": 34
        }
      },
      "source": [
        "# Do I have nulls?\n",
        "merged.isnull().sum().sum()\n",
        "# Un-hash to actually see where they lie:\n",
        "# merged.isnull().sum()"
      ],
      "execution_count": 0,
      "outputs": [
        {
          "output_type": "execute_result",
          "data": {
            "text/plain": [
              "46094"
            ]
          },
          "metadata": {
            "tags": []
          },
          "execution_count": 315
        }
      ]
    },
    {
      "cell_type": "code",
      "metadata": {
        "id": "K-mffl6vhk52",
        "colab_type": "code",
        "colab": {}
      },
      "source": [
        "# Dropping the nulls \n",
        "training = merged.dropna(axis = 1)"
      ],
      "execution_count": 0,
      "outputs": []
    },
    {
      "cell_type": "code",
      "metadata": {
        "id": "_PEzPjkHiiVW",
        "colab_type": "code",
        "outputId": "4494e1b6-6266-4644-85c3-fc98b3964072",
        "colab": {
          "base_uri": "https://localhost:8080/",
          "height": 34
        }
      },
      "source": [
        "# Checking that dropna worked\n",
        "training.isnull().sum().sum()"
      ],
      "execution_count": 0,
      "outputs": [
        {
          "output_type": "execute_result",
          "data": {
            "text/plain": [
              "0"
            ]
          },
          "metadata": {
            "tags": []
          },
          "execution_count": 317
        }
      ]
    },
    {
      "cell_type": "markdown",
      "metadata": {
        "id": "0yAPcUQ1clTt",
        "colab_type": "text"
      },
      "source": [
        "### **Splitting Train and Test**"
      ]
    },
    {
      "cell_type": "code",
      "metadata": {
        "id": "dSH8EcHnipzb",
        "colab_type": "code",
        "colab": {}
      },
      "source": [
        "X = training.drop(columns=['status_group'], axis=1)\n",
        "y = training['status_group']\n",
        "\n",
        "\n",
        "X_train, X_test, y_train, y_test = train_test_split(X, y, test_size=.5, random_state=42)"
      ],
      "execution_count": 0,
      "outputs": []
    },
    {
      "cell_type": "markdown",
      "metadata": {
        "id": "iBZlylwiHv4W",
        "colab_type": "text"
      },
      "source": [
        "### **Label Encoding Feature**"
      ]
    },
    {
      "cell_type": "code",
      "metadata": {
        "id": "gM-yAWTmlXKI",
        "colab_type": "code",
        "colab": {}
      },
      "source": [
        "def fun_encoder(df):\n",
        "        encode_columns = list(df.select_dtypes(include=['category','object']))\n",
        "        label_enc = LabelEncoder()\n",
        "        for feature in encode_columns:\n",
        "            try:\n",
        "                df[feature] = label_enc.fit_transform(df[feature])\n",
        "            except:\n",
        "                print('Oops' + feature)\n",
        "        return df"
      ],
      "execution_count": 0,
      "outputs": []
    },
    {
      "cell_type": "code",
      "metadata": {
        "id": "KbJBNUjulkVq",
        "colab_type": "code",
        "outputId": "e8531800-d506-4a98-abfc-81a9465989a7",
        "colab": {
          "base_uri": "https://localhost:8080/",
          "height": 119
        }
      },
      "source": [
        "# Assigning new names to the encoded train and test\n",
        "X_train_encoded = fun_encoder(X_train)\n",
        "X_test_encoded = fun_encoder(X_test)\n",
        "\n",
        "X_new = fun_encoder(X)"
      ],
      "execution_count": 0,
      "outputs": [
        {
          "output_type": "stream",
          "text": [
            "/usr/local/lib/python3.6/dist-packages/ipykernel_launcher.py:6: SettingWithCopyWarning: \n",
            "A value is trying to be set on a copy of a slice from a DataFrame.\n",
            "Try using .loc[row_indexer,col_indexer] = value instead\n",
            "\n",
            "See the caveats in the documentation: http://pandas.pydata.org/pandas-docs/stable/indexing.html#indexing-view-versus-copy\n",
            "  \n"
          ],
          "name": "stderr"
        }
      ]
    },
    {
      "cell_type": "code",
      "metadata": {
        "id": "zjv7RJXgnOI_",
        "colab_type": "code",
        "outputId": "a371ee13-a45c-426c-9e9c-75c234a3deaa",
        "colab": {
          "base_uri": "https://localhost:8080/",
          "height": 131
        }
      },
      "source": [
        "# Checking to see if it worked\n",
        "X_train_encoded.head(2)"
      ],
      "execution_count": 0,
      "outputs": [
        {
          "output_type": "execute_result",
          "data": {
            "text/html": [
              "<div>\n",
              "<style scoped>\n",
              "    .dataframe tbody tr th:only-of-type {\n",
              "        vertical-align: middle;\n",
              "    }\n",
              "\n",
              "    .dataframe tbody tr th {\n",
              "        vertical-align: top;\n",
              "    }\n",
              "\n",
              "    .dataframe thead th {\n",
              "        text-align: right;\n",
              "    }\n",
              "</style>\n",
              "<table border=\"1\" class=\"dataframe\">\n",
              "  <thead>\n",
              "    <tr style=\"text-align: right;\">\n",
              "      <th></th>\n",
              "      <th>id</th>\n",
              "      <th>amount_tsh</th>\n",
              "      <th>date_recorded</th>\n",
              "      <th>gps_height</th>\n",
              "      <th>longitude</th>\n",
              "      <th>latitude</th>\n",
              "      <th>wpt_name</th>\n",
              "      <th>num_private</th>\n",
              "      <th>basin</th>\n",
              "      <th>region</th>\n",
              "      <th>region_code</th>\n",
              "      <th>district_code</th>\n",
              "      <th>lga</th>\n",
              "      <th>ward</th>\n",
              "      <th>population</th>\n",
              "      <th>recorded_by</th>\n",
              "      <th>construction_year</th>\n",
              "      <th>extraction_type</th>\n",
              "      <th>extraction_type_group</th>\n",
              "      <th>extraction_type_class</th>\n",
              "      <th>management</th>\n",
              "      <th>management_group</th>\n",
              "      <th>payment</th>\n",
              "      <th>payment_type</th>\n",
              "      <th>water_quality</th>\n",
              "      <th>quality_group</th>\n",
              "      <th>quantity</th>\n",
              "      <th>quantity_group</th>\n",
              "      <th>source</th>\n",
              "      <th>source_type</th>\n",
              "      <th>source_class</th>\n",
              "      <th>waterpoint_type</th>\n",
              "      <th>waterpoint_type_group</th>\n",
              "    </tr>\n",
              "  </thead>\n",
              "  <tbody>\n",
              "    <tr>\n",
              "      <th>142</th>\n",
              "      <td>64130</td>\n",
              "      <td>0.0</td>\n",
              "      <td>189</td>\n",
              "      <td>0</td>\n",
              "      <td>32.785025</td>\n",
              "      <td>-5.418031</td>\n",
              "      <td>11670</td>\n",
              "      <td>0</td>\n",
              "      <td>3</td>\n",
              "      <td>19</td>\n",
              "      <td>14</td>\n",
              "      <td>5</td>\n",
              "      <td>107</td>\n",
              "      <td>310</td>\n",
              "      <td>0</td>\n",
              "      <td>0</td>\n",
              "      <td>0</td>\n",
              "      <td>4</td>\n",
              "      <td>2</td>\n",
              "      <td>1</td>\n",
              "      <td>7</td>\n",
              "      <td>4</td>\n",
              "      <td>0</td>\n",
              "      <td>2</td>\n",
              "      <td>6</td>\n",
              "      <td>2</td>\n",
              "      <td>0</td>\n",
              "      <td>0</td>\n",
              "      <td>7</td>\n",
              "      <td>5</td>\n",
              "      <td>0</td>\n",
              "      <td>4</td>\n",
              "      <td>3</td>\n",
              "    </tr>\n",
              "    <tr>\n",
              "      <th>1056</th>\n",
              "      <td>5968</td>\n",
              "      <td>0.0</td>\n",
              "      <td>85</td>\n",
              "      <td>1804</td>\n",
              "      <td>34.767711</td>\n",
              "      <td>-9.089774</td>\n",
              "      <td>5137</td>\n",
              "      <td>0</td>\n",
              "      <td>6</td>\n",
              "      <td>3</td>\n",
              "      <td>11</td>\n",
              "      <td>4</td>\n",
              "      <td>91</td>\n",
              "      <td>1155</td>\n",
              "      <td>65</td>\n",
              "      <td>0</td>\n",
              "      <td>2009</td>\n",
              "      <td>3</td>\n",
              "      <td>1</td>\n",
              "      <td>0</td>\n",
              "      <td>7</td>\n",
              "      <td>4</td>\n",
              "      <td>5</td>\n",
              "      <td>3</td>\n",
              "      <td>6</td>\n",
              "      <td>2</td>\n",
              "      <td>1</td>\n",
              "      <td>1</td>\n",
              "      <td>8</td>\n",
              "      <td>6</td>\n",
              "      <td>0</td>\n",
              "      <td>1</td>\n",
              "      <td>1</td>\n",
              "    </tr>\n",
              "  </tbody>\n",
              "</table>\n",
              "</div>"
            ],
            "text/plain": [
              "         id  amount_tsh  date_recorded  gps_height  longitude  latitude  wpt_name  num_private  basin  region  region_code  district_code  lga  ward  population  recorded_by  construction_year  extraction_type  extraction_type_group  extraction_type_class  management  management_group  payment  payment_type  water_quality  quality_group  quantity  quantity_group  source  source_type  source_class  waterpoint_type  waterpoint_type_group\n",
              "142   64130         0.0            189           0  32.785025 -5.418031     11670            0      3      19           14              5  107   310           0            0                  0                4                      2                      1           7                 4        0             2              6              2         0               0       7            5             0                4                      3\n",
              "1056   5968         0.0             85        1804  34.767711 -9.089774      5137            0      6       3           11              4   91  1155          65            0               2009                3                      1                      0           7                 4        5             3              6              2         1               1       8            6             0                1                      1"
            ]
          },
          "metadata": {
            "tags": []
          },
          "execution_count": 321
        }
      ]
    },
    {
      "cell_type": "code",
      "metadata": {
        "id": "Gu-stauxnQ4p",
        "colab_type": "code",
        "outputId": "7171c2d2-5aaf-4651-aa52-36eb8541cdbc",
        "colab": {
          "base_uri": "https://localhost:8080/",
          "height": 131
        }
      },
      "source": [
        "# Checking to see if it worked \n",
        "X_test_encoded.head(2)"
      ],
      "execution_count": 0,
      "outputs": [
        {
          "output_type": "execute_result",
          "data": {
            "text/html": [
              "<div>\n",
              "<style scoped>\n",
              "    .dataframe tbody tr th:only-of-type {\n",
              "        vertical-align: middle;\n",
              "    }\n",
              "\n",
              "    .dataframe tbody tr th {\n",
              "        vertical-align: top;\n",
              "    }\n",
              "\n",
              "    .dataframe thead th {\n",
              "        text-align: right;\n",
              "    }\n",
              "</style>\n",
              "<table border=\"1\" class=\"dataframe\">\n",
              "  <thead>\n",
              "    <tr style=\"text-align: right;\">\n",
              "      <th></th>\n",
              "      <th>id</th>\n",
              "      <th>amount_tsh</th>\n",
              "      <th>date_recorded</th>\n",
              "      <th>gps_height</th>\n",
              "      <th>longitude</th>\n",
              "      <th>latitude</th>\n",
              "      <th>wpt_name</th>\n",
              "      <th>num_private</th>\n",
              "      <th>basin</th>\n",
              "      <th>region</th>\n",
              "      <th>region_code</th>\n",
              "      <th>district_code</th>\n",
              "      <th>lga</th>\n",
              "      <th>ward</th>\n",
              "      <th>population</th>\n",
              "      <th>recorded_by</th>\n",
              "      <th>construction_year</th>\n",
              "      <th>extraction_type</th>\n",
              "      <th>extraction_type_group</th>\n",
              "      <th>extraction_type_class</th>\n",
              "      <th>management</th>\n",
              "      <th>management_group</th>\n",
              "      <th>payment</th>\n",
              "      <th>payment_type</th>\n",
              "      <th>water_quality</th>\n",
              "      <th>quality_group</th>\n",
              "      <th>quantity</th>\n",
              "      <th>quantity_group</th>\n",
              "      <th>source</th>\n",
              "      <th>source_type</th>\n",
              "      <th>source_class</th>\n",
              "      <th>waterpoint_type</th>\n",
              "      <th>waterpoint_type_group</th>\n",
              "    </tr>\n",
              "  </thead>\n",
              "  <tbody>\n",
              "    <tr>\n",
              "      <th>2980</th>\n",
              "      <td>37098</td>\n",
              "      <td>0.0</td>\n",
              "      <td>178</td>\n",
              "      <td>0</td>\n",
              "      <td>31.985658</td>\n",
              "      <td>-3.596360</td>\n",
              "      <td>2884</td>\n",
              "      <td>0</td>\n",
              "      <td>3</td>\n",
              "      <td>17</td>\n",
              "      <td>17</td>\n",
              "      <td>5</td>\n",
              "      <td>9</td>\n",
              "      <td>441</td>\n",
              "      <td>0</td>\n",
              "      <td>0</td>\n",
              "      <td>0</td>\n",
              "      <td>9</td>\n",
              "      <td>6</td>\n",
              "      <td>3</td>\n",
              "      <td>11</td>\n",
              "      <td>4</td>\n",
              "      <td>6</td>\n",
              "      <td>6</td>\n",
              "      <td>6</td>\n",
              "      <td>2</td>\n",
              "      <td>0</td>\n",
              "      <td>0</td>\n",
              "      <td>7</td>\n",
              "      <td>5</td>\n",
              "      <td>0</td>\n",
              "      <td>6</td>\n",
              "      <td>5</td>\n",
              "    </tr>\n",
              "    <tr>\n",
              "      <th>5246</th>\n",
              "      <td>14530</td>\n",
              "      <td>0.0</td>\n",
              "      <td>203</td>\n",
              "      <td>0</td>\n",
              "      <td>32.832815</td>\n",
              "      <td>-4.944937</td>\n",
              "      <td>15148</td>\n",
              "      <td>0</td>\n",
              "      <td>3</td>\n",
              "      <td>19</td>\n",
              "      <td>14</td>\n",
              "      <td>6</td>\n",
              "      <td>114</td>\n",
              "      <td>2002</td>\n",
              "      <td>0</td>\n",
              "      <td>0</td>\n",
              "      <td>0</td>\n",
              "      <td>4</td>\n",
              "      <td>2</td>\n",
              "      <td>1</td>\n",
              "      <td>7</td>\n",
              "      <td>4</td>\n",
              "      <td>0</td>\n",
              "      <td>2</td>\n",
              "      <td>3</td>\n",
              "      <td>3</td>\n",
              "      <td>2</td>\n",
              "      <td>2</td>\n",
              "      <td>7</td>\n",
              "      <td>5</td>\n",
              "      <td>0</td>\n",
              "      <td>4</td>\n",
              "      <td>3</td>\n",
              "    </tr>\n",
              "  </tbody>\n",
              "</table>\n",
              "</div>"
            ],
            "text/plain": [
              "         id  amount_tsh  date_recorded  gps_height  longitude  latitude  wpt_name  num_private  basin  region  region_code  district_code  lga  ward  population  recorded_by  construction_year  extraction_type  extraction_type_group  extraction_type_class  management  management_group  payment  payment_type  water_quality  quality_group  quantity  quantity_group  source  source_type  source_class  waterpoint_type  waterpoint_type_group\n",
              "2980  37098         0.0            178           0  31.985658 -3.596360      2884            0      3      17           17              5    9   441           0            0                  0                9                      6                      3          11                 4        6             6              6              2         0               0       7            5             0                6                      5\n",
              "5246  14530         0.0            203           0  32.832815 -4.944937     15148            0      3      19           14              6  114  2002           0            0                  0                4                      2                      1           7                 4        0             2              3              3         2               2       7            5             0                4                      3"
            ]
          },
          "metadata": {
            "tags": []
          },
          "execution_count": 322
        }
      ]
    },
    {
      "cell_type": "markdown",
      "metadata": {
        "id": "yxU3eBQNmwMg",
        "colab_type": "text"
      },
      "source": [
        "## **Test 1: Logistic Regression**"
      ]
    },
    {
      "cell_type": "code",
      "metadata": {
        "id": "-q1IPORgmJ6p",
        "colab_type": "code",
        "outputId": "633b5583-c09c-4eff-93e9-c2eca4f0f5d0",
        "colab": {
          "base_uri": "https://localhost:8080/",
          "height": 102
        }
      },
      "source": [
        "# Specifying and fitting our model\n",
        "model= LogisticRegression()\n",
        "model.fit(X_train_encoded, y_train)"
      ],
      "execution_count": 0,
      "outputs": [
        {
          "output_type": "execute_result",
          "data": {
            "text/plain": [
              "LogisticRegression(C=1.0, class_weight=None, dual=False, fit_intercept=True,\n",
              "                   intercept_scaling=1, l1_ratio=None, max_iter=100,\n",
              "                   multi_class='warn', n_jobs=None, penalty='l2',\n",
              "                   random_state=None, solver='warn', tol=0.0001, verbose=0,\n",
              "                   warm_start=False)"
            ]
          },
          "metadata": {
            "tags": []
          },
          "execution_count": 323
        }
      ]
    },
    {
      "cell_type": "code",
      "metadata": {
        "id": "F-tifldh8Mx3",
        "colab_type": "code",
        "outputId": "9281af3c-719b-46f7-cc5f-e7cc8728b27f",
        "colab": {
          "base_uri": "https://localhost:8080/",
          "height": 34
        }
      },
      "source": [
        "# Our prediction and accuracy score\n",
        "y_pred = model.predict(X_test_encoded)\n",
        "print('Logistic Regression Accuracy Score:', accuracy_score(y_test, y_pred))"
      ],
      "execution_count": 0,
      "outputs": [
        {
          "output_type": "stream",
          "text": [
            "Logistic Regression Accuracy Score: 0.6316498316498317\n"
          ],
          "name": "stdout"
        }
      ]
    },
    {
      "cell_type": "markdown",
      "metadata": {
        "id": "yyMAp-wfnhyX",
        "colab_type": "text"
      },
      "source": [
        "### **Make a Pipeline**"
      ]
    },
    {
      "cell_type": "code",
      "metadata": {
        "id": "_YbNUdd-nWfg",
        "colab_type": "code",
        "outputId": "212dd06f-b9bc-41b6-b346-6af8f83b48fa",
        "colab": {
          "base_uri": "https://localhost:8080/",
          "height": 272
        }
      },
      "source": [
        "log_reg_pipeline = make_pipeline(ce.OneHotEncoder(use_cat_names=True),\n",
        "                         StandardScaler(), LogisticRegression(solver ='lbfgs',n_jobs=-1, multi_class = 'auto',C=2))\n",
        "\n",
        "log_reg_pipeline.fit(X_train_encoded, y_train)"
      ],
      "execution_count": 0,
      "outputs": [
        {
          "output_type": "execute_result",
          "data": {
            "text/plain": [
              "Pipeline(memory=None,\n",
              "         steps=[('onehotencoder',\n",
              "                 OneHotEncoder(cols=[], drop_invariant=False,\n",
              "                               handle_missing='value', handle_unknown='value',\n",
              "                               return_df=True, use_cat_names=True, verbose=0)),\n",
              "                ('standardscaler',\n",
              "                 StandardScaler(copy=True, with_mean=True, with_std=True)),\n",
              "                ('logisticregression',\n",
              "                 LogisticRegression(C=2, class_weight=None, dual=False,\n",
              "                                    fit_intercept=True, intercept_scaling=1,\n",
              "                                    l1_ratio=None, max_iter=100,\n",
              "                                    multi_class='auto', n_jobs=-1, penalty='l2',\n",
              "                                    random_state=None, solver='lbfgs',\n",
              "                                    tol=0.0001, verbose=0, warm_start=False))],\n",
              "         verbose=False)"
            ]
          },
          "metadata": {
            "tags": []
          },
          "execution_count": 325
        }
      ]
    },
    {
      "cell_type": "code",
      "metadata": {
        "id": "O9P1Krf3nkfX",
        "colab_type": "code",
        "colab": {}
      },
      "source": [
        "y_pred1 = log_reg_pipeline.predict(X_train)"
      ],
      "execution_count": 0,
      "outputs": []
    },
    {
      "cell_type": "code",
      "metadata": {
        "id": "QnfZqwe8ntZD",
        "colab_type": "code",
        "colab": {}
      },
      "source": [
        "prediction_1 = pd.DataFrame(y_pred1, X_train_encoded['id'])"
      ],
      "execution_count": 0,
      "outputs": []
    },
    {
      "cell_type": "code",
      "metadata": {
        "id": "fwxGRAKpn1Dk",
        "colab_type": "code",
        "colab": {}
      },
      "source": [
        "prediction_1.columns = ['status_group']"
      ],
      "execution_count": 0,
      "outputs": []
    },
    {
      "cell_type": "markdown",
      "metadata": {
        "id": "fwhV3_Ifq0l2",
        "colab_type": "text"
      },
      "source": [
        "### **Putting this in submission format**"
      ]
    },
    {
      "cell_type": "code",
      "metadata": {
        "id": "U94ohUIOn9Mw",
        "colab_type": "code",
        "colab": {}
      },
      "source": [
        "submission_1 = pd.DataFrame(prediction_1)\n",
        "sub_index = submission_1.index\n",
        "submission = pd.DataFrame( submission_1['status_group'],sub_index)\n",
        "submission.reset_index(inplace = True)"
      ],
      "execution_count": 0,
      "outputs": []
    },
    {
      "cell_type": "code",
      "metadata": {
        "id": "DbtRrEkrr4Dj",
        "colab_type": "code",
        "colab": {}
      },
      "source": [
        "sample_submission = pd.read_csv('https://raw.githubusercontent.com/tbradshaw91/Predictive-Modeling-Sprint_Challenge/master/sample_submission.csv')\n",
        "submission = sample_submission.copy()\n",
        "# This part sucks\n",
        "# Attempting with google colab but will improve\n",
        "from google.colab import files\n",
        "submission.to_csv('Submission1.csv', index=False)\n",
        "files.download('Submission1.csv')"
      ],
      "execution_count": 0,
      "outputs": []
    },
    {
      "cell_type": "markdown",
      "metadata": {
        "id": "4nMV02vOtmS2",
        "colab_type": "text"
      },
      "source": [
        "### **Playing with Test Data**"
      ]
    },
    {
      "cell_type": "code",
      "metadata": {
        "id": "fZ7I-9Lktybz",
        "colab_type": "code",
        "outputId": "ed59ef31-0b5e-4ae2-d376-5533f6125af9",
        "colab": {
          "base_uri": "https://localhost:8080/",
          "height": 34
        }
      },
      "source": [
        "# How many nulls?\n",
        "test_features.isnull().sum().sum()"
      ],
      "execution_count": 0,
      "outputs": [
        {
          "output_type": "execute_result",
          "data": {
            "text/plain": [
              "10891"
            ]
          },
          "metadata": {
            "tags": []
          },
          "execution_count": 222
        }
      ]
    },
    {
      "cell_type": "code",
      "metadata": {
        "id": "URovUMdTt9T3",
        "colab_type": "code",
        "colab": {}
      },
      "source": [
        "# Dropping like previously\n",
        "test = test_features.dropna(axis=1)"
      ],
      "execution_count": 0,
      "outputs": []
    },
    {
      "cell_type": "code",
      "metadata": {
        "id": "Aum518jouIga",
        "colab_type": "code",
        "outputId": "f2e8b454-80aa-4428-b256-bb4fa220c225",
        "colab": {
          "base_uri": "https://localhost:8080/",
          "height": 34
        }
      },
      "source": [
        "test.isnull().sum().sum()"
      ],
      "execution_count": 0,
      "outputs": [
        {
          "output_type": "execute_result",
          "data": {
            "text/plain": [
              "0"
            ]
          },
          "metadata": {
            "tags": []
          },
          "execution_count": 224
        }
      ]
    },
    {
      "cell_type": "code",
      "metadata": {
        "id": "XCWtZPJQuMfO",
        "colab_type": "code",
        "outputId": "24a3ceed-d927-4119-a246-5813bf3ee471",
        "colab": {
          "base_uri": "https://localhost:8080/",
          "height": 119
        }
      },
      "source": [
        "# Label Encoding and assigning to X\n",
        "X = fun_encoder(test)"
      ],
      "execution_count": 0,
      "outputs": [
        {
          "output_type": "stream",
          "text": [
            "/usr/local/lib/python3.6/dist-packages/ipykernel_launcher.py:6: SettingWithCopyWarning: \n",
            "A value is trying to be set on a copy of a slice from a DataFrame.\n",
            "Try using .loc[row_indexer,col_indexer] = value instead\n",
            "\n",
            "See the caveats in the documentation: http://pandas.pydata.org/pandas-docs/stable/indexing.html#indexing-view-versus-copy\n",
            "  \n"
          ],
          "name": "stderr"
        }
      ]
    },
    {
      "cell_type": "markdown",
      "metadata": {
        "id": "GaWSVlnWw5Zj",
        "colab_type": "text"
      },
      "source": [
        "###**Submission Format**"
      ]
    },
    {
      "cell_type": "code",
      "metadata": {
        "id": "8Na4sPxTuQ0x",
        "colab_type": "code",
        "colab": {}
      },
      "source": [
        "# Fitting Pipeline \n",
        "log_reg_pipeline.fit(X_test, y_test)\n",
        "y_pred2 = log_reg_pipeline.predict(X)"
      ],
      "execution_count": 0,
      "outputs": []
    },
    {
      "cell_type": "code",
      "metadata": {
        "id": "wNDkY8d2wY_X",
        "colab_type": "code",
        "outputId": "770b9472-70fe-49cb-b2c6-3eba19a3628e",
        "colab": {
          "base_uri": "https://localhost:8080/",
          "height": 235
        }
      },
      "source": [
        "prediction_2 = pd.DataFrame(y_pred2, X['id'])\n",
        "prediction_2.columns = ['status_group']\n",
        "prediction_2.head()"
      ],
      "execution_count": 0,
      "outputs": [
        {
          "output_type": "execute_result",
          "data": {
            "text/html": [
              "<div>\n",
              "<style scoped>\n",
              "    .dataframe tbody tr th:only-of-type {\n",
              "        vertical-align: middle;\n",
              "    }\n",
              "\n",
              "    .dataframe tbody tr th {\n",
              "        vertical-align: top;\n",
              "    }\n",
              "\n",
              "    .dataframe thead th {\n",
              "        text-align: right;\n",
              "    }\n",
              "</style>\n",
              "<table border=\"1\" class=\"dataframe\">\n",
              "  <thead>\n",
              "    <tr style=\"text-align: right;\">\n",
              "      <th></th>\n",
              "      <th>status_group</th>\n",
              "    </tr>\n",
              "    <tr>\n",
              "      <th>id</th>\n",
              "      <th></th>\n",
              "    </tr>\n",
              "  </thead>\n",
              "  <tbody>\n",
              "    <tr>\n",
              "      <th>50785</th>\n",
              "      <td>non functional</td>\n",
              "    </tr>\n",
              "    <tr>\n",
              "      <th>51630</th>\n",
              "      <td>functional</td>\n",
              "    </tr>\n",
              "    <tr>\n",
              "      <th>17168</th>\n",
              "      <td>non functional</td>\n",
              "    </tr>\n",
              "    <tr>\n",
              "      <th>45559</th>\n",
              "      <td>non functional</td>\n",
              "    </tr>\n",
              "    <tr>\n",
              "      <th>49871</th>\n",
              "      <td>functional</td>\n",
              "    </tr>\n",
              "  </tbody>\n",
              "</table>\n",
              "</div>"
            ],
            "text/plain": [
              "         status_group\n",
              "id                   \n",
              "50785  non functional\n",
              "51630      functional\n",
              "17168  non functional\n",
              "45559  non functional\n",
              "49871      functional"
            ]
          },
          "metadata": {
            "tags": []
          },
          "execution_count": 227
        }
      ]
    },
    {
      "cell_type": "code",
      "metadata": {
        "id": "mOa5SKwAwkZm",
        "colab_type": "code",
        "colab": {}
      },
      "source": [
        "submission_2 = pd.DataFrame(prediction_2)\n",
        "sub_index_2 = submission_2.index\n",
        "submission2 = pd.DataFrame( submission_2['status_group'],sub_index_2)\n",
        "submission2.reset_index(inplace = True)"
      ],
      "execution_count": 0,
      "outputs": []
    },
    {
      "cell_type": "code",
      "metadata": {
        "id": "n5egKTufxnka",
        "colab_type": "code",
        "colab": {}
      },
      "source": [
        "from google.colab import files\n",
        "submission2.to_csv('Submission2.csv', index=False)\n",
        "files.download('Submission2.csv')"
      ],
      "execution_count": 0,
      "outputs": []
    },
    {
      "cell_type": "markdown",
      "metadata": {
        "id": "FiDYO4akyWVQ",
        "colab_type": "text"
      },
      "source": [
        "## Test 2: Decision Tree Classifier"
      ]
    },
    {
      "cell_type": "code",
      "metadata": {
        "id": "Bu6hnxdmydeQ",
        "colab_type": "code",
        "colab": {}
      },
      "source": [
        "dtc_model = tree.DecisionTreeClassifier(random_state=42)\n",
        "# Fitting the model\n",
        "dtc_model = dtc_model.fit(X_train, y_train)"
      ],
      "execution_count": 0,
      "outputs": []
    },
    {
      "cell_type": "code",
      "metadata": {
        "id": "tzUP1ETkzZde",
        "colab_type": "code",
        "outputId": "4e3d4d42-e625-4ffa-d026-2b1d0cf80454",
        "colab": {
          "base_uri": "https://localhost:8080/",
          "height": 323
        }
      },
      "source": [
        "# Making a pipeline\n",
        "dtc_pipeline = make_pipeline(ce.OneHotEncoder(use_cat_names=True),\n",
        "                         StandardScaler(),tree.DecisionTreeClassifier(random_state=42) )\n",
        "dtc_pipeline.fit(X_train, y_train)"
      ],
      "execution_count": 0,
      "outputs": [
        {
          "output_type": "execute_result",
          "data": {
            "text/plain": [
              "Pipeline(memory=None,\n",
              "         steps=[('onehotencoder',\n",
              "                 OneHotEncoder(cols=[], drop_invariant=False,\n",
              "                               handle_missing='value', handle_unknown='value',\n",
              "                               return_df=True, use_cat_names=True, verbose=0)),\n",
              "                ('standardscaler',\n",
              "                 StandardScaler(copy=True, with_mean=True, with_std=True)),\n",
              "                ('decisiontreeclassifier',\n",
              "                 DecisionTreeClassifier(class_weight=None, criterion='gini',\n",
              "                                        max_depth=None, max_features=None,\n",
              "                                        max_leaf_nodes=None,\n",
              "                                        min_impurity_decrease=0.0,\n",
              "                                        min_impurity_split=None,\n",
              "                                        min_samples_leaf=1, min_samples_split=2,\n",
              "                                        min_weight_fraction_leaf=0.0,\n",
              "                                        presort=False, random_state=42,\n",
              "                                        splitter='best'))],\n",
              "         verbose=False)"
            ]
          },
          "metadata": {
            "tags": []
          },
          "execution_count": 230
        }
      ]
    },
    {
      "cell_type": "markdown",
      "metadata": {
        "id": "2UbNG2Vf1LAG",
        "colab_type": "text"
      },
      "source": [
        "### Formatting For Submission"
      ]
    },
    {
      "cell_type": "code",
      "metadata": {
        "id": "oPxct76_0DjF",
        "colab_type": "code",
        "outputId": "96732369-9157-4c71-e48f-2edc78d7c5d7",
        "colab": {
          "base_uri": "https://localhost:8080/",
          "height": 34
        }
      },
      "source": [
        "tree_pred = dtc_pipeline.predict(X_test)\n",
        "print('Decision Tree Classifier Accuracy Score:', accuracy_score(y_test,tree_pred))\n",
        "predict_3 = dtc_pipeline.predict(X)"
      ],
      "execution_count": 0,
      "outputs": [
        {
          "output_type": "stream",
          "text": [
            "Decision Tree Classifier Accuracy Score: 0.7174747474747475\n"
          ],
          "name": "stdout"
        }
      ]
    },
    {
      "cell_type": "code",
      "metadata": {
        "id": "KcejKb9B06lc",
        "colab_type": "code",
        "outputId": "d990007d-3d33-42d1-9f84-74e2d14567c7",
        "colab": {
          "base_uri": "https://localhost:8080/",
          "height": 235
        }
      },
      "source": [
        "prediction_3 = pd.DataFrame(predict_3, X['id'])\n",
        "prediction_3.columns = ['status_group']\n",
        "prediction_3.head()"
      ],
      "execution_count": 0,
      "outputs": [
        {
          "output_type": "execute_result",
          "data": {
            "text/html": [
              "<div>\n",
              "<style scoped>\n",
              "    .dataframe tbody tr th:only-of-type {\n",
              "        vertical-align: middle;\n",
              "    }\n",
              "\n",
              "    .dataframe tbody tr th {\n",
              "        vertical-align: top;\n",
              "    }\n",
              "\n",
              "    .dataframe thead th {\n",
              "        text-align: right;\n",
              "    }\n",
              "</style>\n",
              "<table border=\"1\" class=\"dataframe\">\n",
              "  <thead>\n",
              "    <tr style=\"text-align: right;\">\n",
              "      <th></th>\n",
              "      <th>status_group</th>\n",
              "    </tr>\n",
              "    <tr>\n",
              "      <th>id</th>\n",
              "      <th></th>\n",
              "    </tr>\n",
              "  </thead>\n",
              "  <tbody>\n",
              "    <tr>\n",
              "      <th>50785</th>\n",
              "      <td>non functional</td>\n",
              "    </tr>\n",
              "    <tr>\n",
              "      <th>51630</th>\n",
              "      <td>functional</td>\n",
              "    </tr>\n",
              "    <tr>\n",
              "      <th>17168</th>\n",
              "      <td>functional needs repair</td>\n",
              "    </tr>\n",
              "    <tr>\n",
              "      <th>45559</th>\n",
              "      <td>non functional</td>\n",
              "    </tr>\n",
              "    <tr>\n",
              "      <th>49871</th>\n",
              "      <td>functional</td>\n",
              "    </tr>\n",
              "  </tbody>\n",
              "</table>\n",
              "</div>"
            ],
            "text/plain": [
              "                  status_group\n",
              "id                            \n",
              "50785           non functional\n",
              "51630               functional\n",
              "17168  functional needs repair\n",
              "45559           non functional\n",
              "49871               functional"
            ]
          },
          "metadata": {
            "tags": []
          },
          "execution_count": 232
        }
      ]
    },
    {
      "cell_type": "code",
      "metadata": {
        "id": "SklCyp9a1Knk",
        "colab_type": "code",
        "colab": {}
      },
      "source": [
        "submission_3 = pd.DataFrame(prediction_3)\n",
        "sub_index_3 = submission_3.index\n",
        "submission3 = pd.DataFrame( submission_3['status_group'],sub_index_3)\n",
        "submission3.reset_index(inplace = True)"
      ],
      "execution_count": 0,
      "outputs": []
    },
    {
      "cell_type": "code",
      "metadata": {
        "id": "Xbll-q030mta",
        "colab_type": "code",
        "colab": {}
      },
      "source": [
        "submission3.to_csv('Submission3.csv', index=False)\n",
        "files.download('Submission3.csv')"
      ],
      "execution_count": 0,
      "outputs": []
    },
    {
      "cell_type": "markdown",
      "metadata": {
        "id": "O3mh5ejoCLrA",
        "colab_type": "text"
      },
      "source": [
        "## Test 3: XGB Classifier with Standard Scalar"
      ]
    },
    {
      "cell_type": "markdown",
      "metadata": {
        "colab_type": "text",
        "id": "ZYkwi7T1LrpD"
      },
      "source": [
        "### **Training Features, Training Labels and Test Features Data**"
      ]
    },
    {
      "cell_type": "code",
      "metadata": {
        "colab_type": "code",
        "id": "0PpO-Gs1LrpG",
        "colab": {}
      },
      "source": [
        "# Refreshing the data for a fresh start\n",
        "test_features = pd.read_csv('https://raw.githubusercontent.com/tbradshaw91/Predictive-Modeling-Sprint_Challenge/master/test_features.csv')\n",
        "train_features = pd.read_csv('https://raw.githubusercontent.com/tbradshaw91/Predictive-Modeling-Sprint_Challenge/master/train_features.csv')\n",
        "train_labels = pd.read_csv('https://raw.githubusercontent.com/tbradshaw91/Predictive-Modeling-Sprint_Challenge/master/train_labels.csv')"
      ],
      "execution_count": 0,
      "outputs": []
    },
    {
      "cell_type": "code",
      "metadata": {
        "id": "-ZfADz2iIJ8l",
        "colab_type": "code",
        "colab": {}
      },
      "source": [
        "y_train = train_labels['status_group']\n",
        "X_train = train_features\n",
        "X_test  = test_features"
      ],
      "execution_count": 0,
      "outputs": []
    },
    {
      "cell_type": "markdown",
      "metadata": {
        "id": "XSrdjUi4L9Kv",
        "colab_type": "text"
      },
      "source": [
        "### **Creating a simplicity function**"
      ]
    },
    {
      "cell_type": "code",
      "metadata": {
        "id": "kijvO5dqIex7",
        "colab_type": "code",
        "colab": {}
      },
      "source": [
        "def fun_wrangle(df):\n",
        "    for i in df.select_dtypes(exclude=[np.number]).columns:\n",
        "      df[i] = df[i].str.lower()\n",
        "    df['longitude'].replace(0.0, 35, inplace=True)\n",
        "    df['construction_year'].replace(0.0, 1995, inplace=True)\n",
        "    df['gps_height'].replace(0.0, 1300, inplace=True)\n",
        "    df['date_recorded'] = pd.to_datetime(df.date_recorded)\n",
        "    df['years_service'] = df.date_recorded.dt.year - df.construction_year\n",
        "    df['date_recorded'] = df.date_recorded.astype('datetime64[ns]').astype(int)\n",
        "    df.replace({np.nan: 'unknown'}, inplace=True)\n",
        "    return df"
      ],
      "execution_count": 0,
      "outputs": []
    },
    {
      "cell_type": "code",
      "metadata": {
        "id": "zyGPtz1WH-JZ",
        "colab_type": "code",
        "colab": {}
      },
      "source": [
        "# Assigning fun_wrangle to the training and testing\n",
        "X_train = fun_wrangle(X_train)\n",
        "X_test = fun_wrangle(X_test)"
      ],
      "execution_count": 0,
      "outputs": []
    },
    {
      "cell_type": "markdown",
      "metadata": {
        "id": "BLcKvQ5mNIOJ",
        "colab_type": "text"
      },
      "source": [
        "### **Trying out a new encoder**"
      ]
    },
    {
      "cell_type": "code",
      "metadata": {
        "id": "JSTGHNmZInPR",
        "colab_type": "code",
        "colab": {}
      },
      "source": [
        "def numba_encoder(df):\n",
        "    result = df.copy()\n",
        "    encoders = {}\n",
        "    for column in result.columns:\n",
        "        if result.dtypes[column] == np.object:\n",
        "            encoders[column] = LabelEncoder()\n",
        "            result[column] = encoders[column].fit_transform(result[column])\n",
        "    return result"
      ],
      "execution_count": 0,
      "outputs": []
    },
    {
      "cell_type": "code",
      "metadata": {
        "id": "PFj6O7OKI2H9",
        "colab_type": "code",
        "colab": {}
      },
      "source": [
        "# Assigning the numba_encoder to the training and testing data\n",
        "X_train = numba_encoder(X_train)\n",
        "X_test = numba_encoder(X_test)"
      ],
      "execution_count": 0,
      "outputs": []
    },
    {
      "cell_type": "markdown",
      "metadata": {
        "id": "-cKqt5TjN6oa",
        "colab_type": "text"
      },
      "source": [
        "### **Playing with Standard Scaler**"
      ]
    },
    {
      "cell_type": "code",
      "metadata": {
        "id": "lqD4bf0CI8q4",
        "colab_type": "code",
        "colab": {}
      },
      "source": [
        "ss = StandardScaler()\n",
        "X_train = ss.fit_transform(X_train)\n",
        "X_test = ss.fit_transform(X_test)"
      ],
      "execution_count": 0,
      "outputs": []
    },
    {
      "cell_type": "code",
      "metadata": {
        "id": "NMm4EugEJDI2",
        "colab_type": "code",
        "colab": {}
      },
      "source": [
        "# Splitting training and testing\n",
        "X_train, X_val, y_train, y_val = train_test_split(X_train, y_train, test_size=.2)"
      ],
      "execution_count": 0,
      "outputs": []
    },
    {
      "cell_type": "markdown",
      "metadata": {
        "id": "4SFJ00fWORdJ",
        "colab_type": "text"
      },
      "source": [
        "### **XGB Classifier**"
      ]
    },
    {
      "cell_type": "code",
      "metadata": {
        "id": "KYdkdNm4CMH_",
        "colab_type": "code",
        "colab": {}
      },
      "source": [
        "xgbc_model = XGBClassifier(booster='gbtree', objective ='multi:softmax', num_class=3, \n",
        "                    eta=.2, max_depth=8, n_estimators=1000, learning_rate=0.2)"
      ],
      "execution_count": 0,
      "outputs": []
    },
    {
      "cell_type": "code",
      "metadata": {
        "id": "HY-iZ--OJNL3",
        "colab_type": "code",
        "outputId": "f5d14ae6-3aa0-4c84-a961-2c623088ce51",
        "colab": {
          "base_uri": "https://localhost:8080/",
          "height": 2278
        }
      },
      "source": [
        "# Fitting the model \n",
        "xgbc_model.fit(X_train, y_train, eval_metric='merror', early_stopping_rounds=30, \n",
        "               eval_set=[(X_train, y_train), (X_val, y_val)], verbose=True)"
      ],
      "execution_count": 0,
      "outputs": [
        {
          "output_type": "stream",
          "text": [
            "[0]\tvalidation_0-merror:0.246696\tvalidation_1-merror:0.261364\n",
            "Multiple eval metrics have been passed: 'validation_1-merror' will be used for early stopping.\n",
            "\n",
            "Will train until validation_1-merror hasn't improved in 30 rounds.\n",
            "[1]\tvalidation_0-merror:0.244339\tvalidation_1-merror:0.259848\n",
            "[2]\tvalidation_0-merror:0.240762\tvalidation_1-merror:0.255724\n",
            "[3]\tvalidation_0-merror:0.236048\tvalidation_1-merror:0.253114\n",
            "[4]\tvalidation_0-merror:0.232765\tvalidation_1-merror:0.250842\n",
            "[5]\tvalidation_0-merror:0.229503\tvalidation_1-merror:0.249916\n",
            "[6]\tvalidation_0-merror:0.226473\tvalidation_1-merror:0.247475\n",
            "[7]\tvalidation_0-merror:0.225568\tvalidation_1-merror:0.245707\n",
            "[8]\tvalidation_0-merror:0.223359\tvalidation_1-merror:0.243519\n",
            "[9]\tvalidation_0-merror:0.219844\tvalidation_1-merror:0.241498\n",
            "[10]\tvalidation_0-merror:0.216667\tvalidation_1-merror:0.238384\n",
            "[11]\tvalidation_0-merror:0.212479\tvalidation_1-merror:0.236532\n",
            "[12]\tvalidation_0-merror:0.207702\tvalidation_1-merror:0.234007\n",
            "[13]\tvalidation_0-merror:0.204209\tvalidation_1-merror:0.231397\n",
            "[14]\tvalidation_0-merror:0.202104\tvalidation_1-merror:0.228114\n",
            "[15]\tvalidation_0-merror:0.197875\tvalidation_1-merror:0.22601\n",
            "[16]\tvalidation_0-merror:0.195791\tvalidation_1-merror:0.225084\n",
            "[17]\tvalidation_0-merror:0.19295\tvalidation_1-merror:0.223569\n",
            "[18]\tvalidation_0-merror:0.191646\tvalidation_1-merror:0.223232\n",
            "[19]\tvalidation_0-merror:0.19072\tvalidation_1-merror:0.222475\n",
            "[20]\tvalidation_0-merror:0.186953\tvalidation_1-merror:0.219024\n",
            "[21]\tvalidation_0-merror:0.186132\tvalidation_1-merror:0.219529\n",
            "[22]\tvalidation_0-merror:0.184764\tvalidation_1-merror:0.219444\n",
            "[23]\tvalidation_0-merror:0.182891\tvalidation_1-merror:0.218519\n",
            "[24]\tvalidation_0-merror:0.181271\tvalidation_1-merror:0.216751\n",
            "[25]\tvalidation_0-merror:0.178241\tvalidation_1-merror:0.215236\n",
            "[26]\tvalidation_0-merror:0.177946\tvalidation_1-merror:0.215909\n",
            "[27]\tvalidation_0-merror:0.176578\tvalidation_1-merror:0.215825\n",
            "[28]\tvalidation_0-merror:0.175253\tvalidation_1-merror:0.215152\n",
            "[29]\tvalidation_0-merror:0.174116\tvalidation_1-merror:0.214394\n",
            "[30]\tvalidation_0-merror:0.17279\tvalidation_1-merror:0.214478\n",
            "[31]\tvalidation_0-merror:0.171444\tvalidation_1-merror:0.213215\n",
            "[32]\tvalidation_0-merror:0.170013\tvalidation_1-merror:0.213047\n",
            "[33]\tvalidation_0-merror:0.169234\tvalidation_1-merror:0.212626\n",
            "[34]\tvalidation_0-merror:0.168708\tvalidation_1-merror:0.211616\n",
            "[35]\tvalidation_0-merror:0.168182\tvalidation_1-merror:0.2117\n",
            "[36]\tvalidation_0-merror:0.167277\tvalidation_1-merror:0.211616\n",
            "[37]\tvalidation_0-merror:0.165236\tvalidation_1-merror:0.211279\n",
            "[38]\tvalidation_0-merror:0.164331\tvalidation_1-merror:0.211364\n",
            "[39]\tvalidation_0-merror:0.162816\tvalidation_1-merror:0.210859\n",
            "[40]\tvalidation_0-merror:0.160817\tvalidation_1-merror:0.210185\n",
            "[41]\tvalidation_0-merror:0.159743\tvalidation_1-merror:0.209933\n",
            "[42]\tvalidation_0-merror:0.157639\tvalidation_1-merror:0.209259\n",
            "[43]\tvalidation_0-merror:0.15646\tvalidation_1-merror:0.207997\n",
            "[44]\tvalidation_0-merror:0.155345\tvalidation_1-merror:0.207071\n",
            "[45]\tvalidation_0-merror:0.15404\tvalidation_1-merror:0.206145\n",
            "[46]\tvalidation_0-merror:0.153493\tvalidation_1-merror:0.206902\n",
            "[47]\tvalidation_0-merror:0.152609\tvalidation_1-merror:0.208081\n",
            "[48]\tvalidation_0-merror:0.151115\tvalidation_1-merror:0.206818\n",
            "[49]\tvalidation_0-merror:0.149537\tvalidation_1-merror:0.205892\n",
            "[50]\tvalidation_0-merror:0.148295\tvalidation_1-merror:0.205724\n",
            "[51]\tvalidation_0-merror:0.147622\tvalidation_1-merror:0.206818\n",
            "[52]\tvalidation_0-merror:0.146402\tvalidation_1-merror:0.205892\n",
            "[53]\tvalidation_0-merror:0.145434\tvalidation_1-merror:0.205724\n",
            "[54]\tvalidation_0-merror:0.144297\tvalidation_1-merror:0.205387\n",
            "[55]\tvalidation_0-merror:0.143918\tvalidation_1-merror:0.205892\n",
            "[56]\tvalidation_0-merror:0.142929\tvalidation_1-merror:0.206313\n",
            "[57]\tvalidation_0-merror:0.141056\tvalidation_1-merror:0.206145\n",
            "[58]\tvalidation_0-merror:0.140425\tvalidation_1-merror:0.206313\n",
            "[59]\tvalidation_0-merror:0.139015\tvalidation_1-merror:0.206481\n",
            "[60]\tvalidation_0-merror:0.137963\tvalidation_1-merror:0.206481\n",
            "[61]\tvalidation_0-merror:0.137563\tvalidation_1-merror:0.206061\n",
            "[62]\tvalidation_0-merror:0.136595\tvalidation_1-merror:0.206397\n",
            "[63]\tvalidation_0-merror:0.135732\tvalidation_1-merror:0.206566\n",
            "[64]\tvalidation_0-merror:0.135143\tvalidation_1-merror:0.206987\n",
            "[65]\tvalidation_0-merror:0.134449\tvalidation_1-merror:0.206734\n",
            "[66]\tvalidation_0-merror:0.133144\tvalidation_1-merror:0.206734\n",
            "[67]\tvalidation_0-merror:0.132197\tvalidation_1-merror:0.206734\n",
            "[68]\tvalidation_0-merror:0.13125\tvalidation_1-merror:0.206987\n",
            "[69]\tvalidation_0-merror:0.130135\tvalidation_1-merror:0.206566\n",
            "[70]\tvalidation_0-merror:0.12963\tvalidation_1-merror:0.20665\n",
            "[71]\tvalidation_0-merror:0.129104\tvalidation_1-merror:0.20665\n",
            "[72]\tvalidation_0-merror:0.128325\tvalidation_1-merror:0.206818\n",
            "[73]\tvalidation_0-merror:0.127189\tvalidation_1-merror:0.206818\n",
            "[74]\tvalidation_0-merror:0.125758\tvalidation_1-merror:0.207071\n",
            "[75]\tvalidation_0-merror:0.125168\tvalidation_1-merror:0.20665\n",
            "[76]\tvalidation_0-merror:0.124137\tvalidation_1-merror:0.206481\n",
            "[77]\tvalidation_0-merror:0.122601\tvalidation_1-merror:0.206987\n",
            "[78]\tvalidation_0-merror:0.12218\tvalidation_1-merror:0.20665\n",
            "[79]\tvalidation_0-merror:0.121444\tvalidation_1-merror:0.205976\n",
            "[80]\tvalidation_0-merror:0.120896\tvalidation_1-merror:0.205976\n",
            "[81]\tvalidation_0-merror:0.120097\tvalidation_1-merror:0.206481\n",
            "[82]\tvalidation_0-merror:0.119045\tvalidation_1-merror:0.206397\n",
            "[83]\tvalidation_0-merror:0.118497\tvalidation_1-merror:0.205303\n",
            "[84]\tvalidation_0-merror:0.117887\tvalidation_1-merror:0.204966\n",
            "[85]\tvalidation_0-merror:0.117214\tvalidation_1-merror:0.204545\n",
            "[86]\tvalidation_0-merror:0.116982\tvalidation_1-merror:0.20463\n",
            "[87]\tvalidation_0-merror:0.116561\tvalidation_1-merror:0.204293\n",
            "[88]\tvalidation_0-merror:0.116267\tvalidation_1-merror:0.204125\n",
            "[89]\tvalidation_0-merror:0.115278\tvalidation_1-merror:0.203788\n",
            "[90]\tvalidation_0-merror:0.114941\tvalidation_1-merror:0.20404\n",
            "[91]\tvalidation_0-merror:0.113426\tvalidation_1-merror:0.205219\n",
            "[92]\tvalidation_0-merror:0.112816\tvalidation_1-merror:0.205135\n",
            "[93]\tvalidation_0-merror:0.11229\tvalidation_1-merror:0.205219\n",
            "[94]\tvalidation_0-merror:0.111048\tvalidation_1-merror:0.205219\n",
            "[95]\tvalidation_0-merror:0.110122\tvalidation_1-merror:0.205135\n",
            "[96]\tvalidation_0-merror:0.109827\tvalidation_1-merror:0.205219\n",
            "[97]\tvalidation_0-merror:0.109533\tvalidation_1-merror:0.205471\n",
            "[98]\tvalidation_0-merror:0.108396\tvalidation_1-merror:0.205303\n",
            "[99]\tvalidation_0-merror:0.107912\tvalidation_1-merror:0.205135\n",
            "[100]\tvalidation_0-merror:0.107071\tvalidation_1-merror:0.205387\n",
            "[101]\tvalidation_0-merror:0.106776\tvalidation_1-merror:0.204966\n",
            "[102]\tvalidation_0-merror:0.105934\tvalidation_1-merror:0.205471\n",
            "[103]\tvalidation_0-merror:0.105492\tvalidation_1-merror:0.205471\n",
            "[104]\tvalidation_0-merror:0.104903\tvalidation_1-merror:0.205556\n",
            "[105]\tvalidation_0-merror:0.104293\tvalidation_1-merror:0.205556\n",
            "[106]\tvalidation_0-merror:0.103683\tvalidation_1-merror:0.205387\n",
            "[107]\tvalidation_0-merror:0.103072\tvalidation_1-merror:0.20564\n",
            "[108]\tvalidation_0-merror:0.102399\tvalidation_1-merror:0.205892\n",
            "[109]\tvalidation_0-merror:0.10181\tvalidation_1-merror:0.205976\n",
            "[110]\tvalidation_0-merror:0.101221\tvalidation_1-merror:0.206145\n",
            "[111]\tvalidation_0-merror:0.100547\tvalidation_1-merror:0.20564\n",
            "[112]\tvalidation_0-merror:0.099895\tvalidation_1-merror:0.204966\n",
            "[113]\tvalidation_0-merror:0.09939\tvalidation_1-merror:0.205724\n",
            "[114]\tvalidation_0-merror:0.099011\tvalidation_1-merror:0.205556\n",
            "[115]\tvalidation_0-merror:0.098211\tvalidation_1-merror:0.205471\n",
            "[116]\tvalidation_0-merror:0.097264\tvalidation_1-merror:0.20564\n",
            "[117]\tvalidation_0-merror:0.09718\tvalidation_1-merror:0.205976\n",
            "[118]\tvalidation_0-merror:0.096928\tvalidation_1-merror:0.205808\n",
            "[119]\tvalidation_0-merror:0.096591\tvalidation_1-merror:0.205556\n",
            "Stopping. Best iteration:\n",
            "[89]\tvalidation_0-merror:0.115278\tvalidation_1-merror:0.203788\n",
            "\n"
          ],
          "name": "stdout"
        },
        {
          "output_type": "execute_result",
          "data": {
            "text/plain": [
              "XGBClassifier(base_score=0.5, booster='gbtree', colsample_bylevel=1,\n",
              "              colsample_bytree=1, eta=0.2, gamma=0, learning_rate=0.2,\n",
              "              max_delta_step=0, max_depth=8, min_child_weight=1, missing=None,\n",
              "              n_estimators=1000, n_jobs=1, nthread=None, num_class=3,\n",
              "              objective='multi:softprob', random_state=0, reg_alpha=0,\n",
              "              reg_lambda=1, scale_pos_weight=1, seed=None, silent=True,\n",
              "              subsample=1)"
            ]
          },
          "metadata": {
            "tags": []
          },
          "execution_count": 404
        }
      ]
    },
    {
      "cell_type": "markdown",
      "metadata": {
        "id": "85aJbJ7p_2kZ",
        "colab_type": "text"
      },
      "source": [
        "###**Submission Formatting**"
      ]
    },
    {
      "cell_type": "code",
      "metadata": {
        "id": "tbk1bRkRJYLg",
        "colab_type": "code",
        "outputId": "86e18dbd-1f81-4d44-85a7-f42c48d358cc",
        "colab": {
          "base_uri": "https://localhost:8080/",
          "height": 34
        }
      },
      "source": [
        "xgbc_pred = xgbc_model.predict(X_val)\n",
        "print('XGB Classifier Accuracy Score: ', accuracy_score(y_val, xgbc_pred))"
      ],
      "execution_count": 0,
      "outputs": [
        {
          "output_type": "stream",
          "text": [
            "XGB Classifier Accuracy Score:  0.8117003367003367\n"
          ],
          "name": "stdout"
        }
      ]
    },
    {
      "cell_type": "code",
      "metadata": {
        "id": "gYcCbR_ZJ5OV",
        "colab_type": "code",
        "colab": {}
      },
      "source": [
        "predict_4 = xgbc_model.predict(X_test)"
      ],
      "execution_count": 0,
      "outputs": []
    },
    {
      "cell_type": "code",
      "metadata": {
        "id": "GBo7jCSsKFf-",
        "colab_type": "code",
        "colab": {}
      },
      "source": [
        "prediction_4 = pd.DataFrame(predict_4, X['id'])\n",
        "prediction_4.columns = ['status_group']\n",
        "prediction_4.head()"
      ],
      "execution_count": 0,
      "outputs": []
    },
    {
      "cell_type": "code",
      "metadata": {
        "id": "514BeaJhKK54",
        "colab_type": "code",
        "colab": {}
      },
      "source": [
        "submission_4 = pd.DataFrame(prediction_4)\n",
        "sub_index_4 = submission_4.index\n",
        "submission4 = pd.DataFrame( submission_4['status_group'],sub_index_4)\n",
        "submission4.reset_index(inplace = True)"
      ],
      "execution_count": 0,
      "outputs": []
    },
    {
      "cell_type": "code",
      "metadata": {
        "id": "yXfTpTahKU3g",
        "colab_type": "code",
        "colab": {}
      },
      "source": [
        "from google.colab import files\n",
        "submission.to_csv('Submission4.csv', index=False)\n",
        "files.download('Submission4.csv')"
      ],
      "execution_count": 0,
      "outputs": []
    },
    {
      "cell_type": "markdown",
      "metadata": {
        "id": "OUuZVlJfczlR",
        "colab_type": "text"
      },
      "source": [
        "## Test 4: XGB Classifier with some tweaks -- 81.557\n"
      ]
    },
    {
      "cell_type": "code",
      "metadata": {
        "id": "Z0f2I6wHRAA-",
        "colab_type": "code",
        "colab": {}
      },
      "source": [
        "start_time = time.time()"
      ],
      "execution_count": 0,
      "outputs": []
    },
    {
      "cell_type": "markdown",
      "metadata": {
        "colab_type": "text",
        "id": "_Cv-JDPQRneR"
      },
      "source": [
        "### **Training Features, Training Labels and Test Features Data**"
      ]
    },
    {
      "cell_type": "code",
      "metadata": {
        "id": "KfN_vZWqRXuw",
        "colab_type": "code",
        "colab": {}
      },
      "source": [
        "# Just like previously, refreshing the data \n",
        "test_features = pd.read_csv('https://raw.githubusercontent.com/tbradshaw91/Predictive-Modeling-Sprint_Challenge/master/test_features.csv')\n",
        "train_features = pd.read_csv('https://raw.githubusercontent.com/tbradshaw91/Predictive-Modeling-Sprint_Challenge/master/train_features.csv')\n",
        "train_labels = pd.read_csv('https://raw.githubusercontent.com/tbradshaw91/Predictive-Modeling-Sprint_Challenge/master/train_labels.csv')\n",
        "submission = pd.read_csv('https://raw.githubusercontent.com/tbradshaw91/Predictive-Modeling-Sprint_Challenge/master/sample_submission.csv')\n",
        "#pd.set_option('display.max_columns', None) # all cols\n",
        "#pd.set_option('display.width', 161)"
      ],
      "execution_count": 0,
      "outputs": []
    },
    {
      "cell_type": "markdown",
      "metadata": {
        "id": "Mu-_F2zpR-ld",
        "colab_type": "text"
      },
      "source": [
        "### I already know there are nulls, skipping that step and dropping them "
      ]
    },
    {
      "cell_type": "code",
      "metadata": {
        "id": "n2NeJv4XRuEx",
        "colab_type": "code",
        "colab": {}
      },
      "source": [
        "# Dropping nulls for train and test\n",
        "train_features.dropna(axis=1, inplace=True)\n",
        "test_features.dropna(axis=1, inplace=True)"
      ],
      "execution_count": 0,
      "outputs": []
    },
    {
      "cell_type": "code",
      "metadata": {
        "id": "9WbvBdKxSWt3",
        "colab_type": "code",
        "outputId": "7dbce088-4b92-46f8-ba18-0b33aa41aead",
        "colab": {
          "base_uri": "https://localhost:8080/",
          "height": 51
        }
      },
      "source": [
        "# Checking that they are gone\n",
        "print('Nulls in train:', train_features.isnull().sum().sum())\n",
        "print('Nulls in test:', test_features.isnull().sum().sum())"
      ],
      "execution_count": 6,
      "outputs": [
        {
          "output_type": "stream",
          "text": [
            "Nulls in train: 0\n",
            "Nulls in test: 0\n"
          ],
          "name": "stdout"
        }
      ]
    },
    {
      "cell_type": "markdown",
      "metadata": {
        "id": "bEf0zuR8TFR9",
        "colab_type": "text"
      },
      "source": [
        "### **Creating New Features**"
      ]
    },
    {
      "cell_type": "code",
      "metadata": {
        "id": "YSneEtg-SwUU",
        "colab_type": "code",
        "colab": {}
      },
      "source": [
        "# Area - Train\n",
        "train_features['area'] = train_features.region.replace({'Iringa' : 2,\n",
        "                                                        'Arusha' : 1,\n",
        "                                                        'Manyara' : 1,\n",
        "                                                        'Shinyanga' : 0,\n",
        "                                                        'Mbeya' : 0,\n",
        "                                                        'Kilimanjaro' : 0,\n",
        "                                                        'Morogoro' : 0,\n",
        "                                                        'Kagera' : 0,\n",
        "                                                        'Mwanza' : 0,\n",
        "                                                        'Kigoma' : 0,\n",
        "                                                        'Ruvuma' : 0,\n",
        "                                                        'Pwani' : 0,\n",
        "                                                        'Tanga' : 0,\n",
        "                                                        'Dodoma' : 0,\n",
        "                                                        'Singida' : 0,\n",
        "                                                        'Mara' : 0,\n",
        "                                                        'Dar es Salaam' : 0,\n",
        "                                                        'Tabora' : -1,\n",
        "                                                        'Rukwa' : -1,\n",
        "                                                        'Lindi' : -2,\n",
        "                                                        'Mtwara' : -2})"
      ],
      "execution_count": 0,
      "outputs": []
    },
    {
      "cell_type": "code",
      "metadata": {
        "id": "dG_wYtV_Tada",
        "colab_type": "code",
        "colab": {}
      },
      "source": [
        "# Area - Test\n",
        "test_features['area'] = test_features.region.replace({'Iringa' : 2,\n",
        "                                                      'Arusha' : 1,\n",
        "                                                      'Manyara' : 1,\n",
        "                                                      'Shinyanga' : 0,\n",
        "                                                      'Mbeya' : 0,\n",
        "                                                      'Kilimanjaro' : 0,\n",
        "                                                      'Morogoro' : 0,\n",
        "                                                      'Kagera' : 0,\n",
        "                                                      'Mwanza' : 0,\n",
        "                                                      'Kigoma' : 0,\n",
        "                                                      'Ruvuma' : 0,\n",
        "                                                      'Pwani' : 0,\n",
        "                                                      'Tanga' : 0,\n",
        "                                                      'Dodoma' : 0,\n",
        "                                                      'Singida' : 0,\n",
        "                                                      'Mara' : 0,\n",
        "                                                      'Dar es Salaam' : 0,\n",
        "                                                      'Tabora' : -1,\n",
        "                                                      'Rukwa' : -1,\n",
        "                                                      'Lindi' : -2,\n",
        "                                                      'Mtwara' : -2})"
      ],
      "execution_count": 0,
      "outputs": []
    },
    {
      "cell_type": "code",
      "metadata": {
        "id": "-4ZbOXkST4lx",
        "colab_type": "code",
        "colab": {}
      },
      "source": [
        "# New construction\n",
        "train_features['new'] = (train_features.construction_year > 1998).map({True : 1, False : 0})\n",
        "test_features['new'] = (test_features.construction_year > 1998).map({True : 1, False : 0})\n"
      ],
      "execution_count": 0,
      "outputs": []
    },
    {
      "cell_type": "code",
      "metadata": {
        "id": "9fPe3UVqULH1",
        "colab_type": "code",
        "colab": {}
      },
      "source": [
        "# Payment - Train & Test\n",
        "train_features['pmnt'] = train_features.payment_type.replace({'annually' : 2,\n",
        "                                                             'never pay' : 0,\n",
        "                                                             'unknown' : 0,\n",
        "                                                             'on failure' : 0,\n",
        "                                                             'other' : 0,\n",
        "                                                             'per bucket' : 1,\n",
        "                                                             'monthly' : 1})\n",
        "test_features['pmnt'] = test_features.payment_type.replace({'annually' : 2,\n",
        "                                                           'never pay' : 0,\n",
        "                                                           'unknown' : 0,\n",
        "                                                           'on failure' : 0,\n",
        "                                                           'other' : 0,\n",
        "                                                           'per bucket' : 1,\n",
        "                                                           'monthly' : 1})"
      ],
      "execution_count": 0,
      "outputs": []
    },
    {
      "cell_type": "code",
      "metadata": {
        "id": "7JQ5qvh5nkei",
        "colab_type": "code",
        "colab": {}
      },
      "source": [
        "# Dropping features for train & test\n",
        "y_train = train_labels.status_group\n",
        "X_train = train_features.drop(['id', \"date_recorded\", \"wpt_name\", \"lga\", \"ward\"], axis = 1)\n",
        "X_test  = test_features.drop(['id', \"date_recorded\", \"wpt_name\", \"lga\", \"ward\"], axis = 1)"
      ],
      "execution_count": 0,
      "outputs": []
    },
    {
      "cell_type": "code",
      "metadata": {
        "id": "ZtUScOsunkUn",
        "colab_type": "code",
        "colab": {}
      },
      "source": [
        "# Specifying columns\n",
        "training_number_cols = X_train.select_dtypes('number').columns.tolist()\n",
        "training_category_cols = X_train.select_dtypes(exclude='number').columns.tolist()[:-1]\n",
        "testing_number_cols = X_test.select_dtypes('number').columns.tolist()\n",
        "testing_category_cols = X_test.select_dtypes(exclude='number').columns.tolist()[:-1]"
      ],
      "execution_count": 0,
      "outputs": []
    },
    {
      "cell_type": "code",
      "metadata": {
        "id": "5r3Eb4jcny6A",
        "colab_type": "code",
        "colab": {}
      },
      "source": [
        "# Category Encoder\n",
        "category_encoder = LabelEncoder()\n",
        "# Encoding\n",
        "encoded_X_train = X_train[training_category_cols].apply(category_encoder.fit_transform)\n",
        "encoded_X_test = X_test[testing_category_cols].apply(category_encoder.fit_transform)\n",
        "encoded_X_train = encoded_X_train.join(X_train[training_number_cols])\n",
        "encoded_X_test = encoded_X_test.join(X_test[testing_number_cols])"
      ],
      "execution_count": 0,
      "outputs": []
    },
    {
      "cell_type": "markdown",
      "metadata": {
        "id": "rxJjkXx-8kaE",
        "colab_type": "text"
      },
      "source": [
        "### **Best Score Yet: 81.557**"
      ]
    },
    {
      "cell_type": "code",
      "metadata": {
        "id": "As_oEGPzny1h",
        "colab_type": "code",
        "outputId": "1bd4940a-4172-4182-b6ca-c806dbcd1391",
        "colab": {
          "base_uri": "https://localhost:8080/",
          "height": 34
        }
      },
      "source": [
        "xgb = XGBClassifier(objective = 'multi:softmax', booster = 'gbtree',\n",
        "                    nrounds = 'min.error.idx', num_class = 4,\n",
        "                    maximize = False, eval_metric = 'merror', eta = .2,\n",
        "                    max_depth = 16, colsample_bytree = .4, nthread = -1)\n",
        "\n",
        "xgb.fit(encoded_X_train, y_train)\n",
        "print(\"XGB Classifier Score:\", xgb.score(encoded_X_train, y_train))\n"
      ],
      "execution_count": 0,
      "outputs": [
        {
          "output_type": "stream",
          "text": [
            "XGB Classifier Score: 0.9538552188552188\n"
          ],
          "name": "stdout"
        }
      ]
    },
    {
      "cell_type": "markdown",
      "metadata": {
        "id": "tMLj48_SqGfP",
        "colab_type": "text"
      },
      "source": [
        "### **Submission Formatting**"
      ]
    },
    {
      "cell_type": "code",
      "metadata": {
        "id": "2PTsK6yUnyyN",
        "colab_type": "code",
        "outputId": "27b17f15-73fe-4eea-81fa-5a5279e63d73",
        "colab": {
          "base_uri": "https://localhost:8080/",
          "height": 34
        }
      },
      "source": [
        "xgbc2_predict = pd.DataFrame(xgb.predict(encoded_X_test))\n",
        "print(xgbc2_predict.shape)"
      ],
      "execution_count": 0,
      "outputs": [
        {
          "output_type": "stream",
          "text": [
            "(14358, 1)\n"
          ],
          "name": "stdout"
        }
      ]
    },
    {
      "cell_type": "code",
      "metadata": {
        "id": "sSgXCCOAnypV",
        "colab_type": "code",
        "outputId": "ffef7826-4a52-477e-e125-ab618785bc96",
        "colab": {
          "base_uri": "https://localhost:8080/",
          "height": 85
        }
      },
      "source": [
        "print(xgbc2_predict[0].value_counts(normalize=True))"
      ],
      "execution_count": 0,
      "outputs": [
        {
          "output_type": "stream",
          "text": [
            "functional                 0.603636\n",
            "non functional             0.360705\n",
            "functional needs repair    0.035660\n",
            "Name: 0, dtype: float64\n"
          ],
          "name": "stdout"
        }
      ]
    },
    {
      "cell_type": "code",
      "metadata": {
        "id": "oep0VNVCqshi",
        "colab_type": "code",
        "outputId": "9923b379-6c53-488b-e6dc-ecc4310162fd",
        "colab": {
          "base_uri": "https://localhost:8080/",
          "height": 85
        }
      },
      "source": [
        "submission['status_group'] = xgbc2_predict[0]\n",
        "print(submission.status_group.value_counts())"
      ],
      "execution_count": 0,
      "outputs": [
        {
          "output_type": "stream",
          "text": [
            "functional                 8667\n",
            "non functional             5179\n",
            "functional needs repair     512\n",
            "Name: status_group, dtype: int64\n"
          ],
          "name": "stdout"
        }
      ]
    },
    {
      "cell_type": "code",
      "metadata": {
        "id": "MYiEypaUT5Ir",
        "colab_type": "code",
        "colab": {}
      },
      "source": [
        "final_submission = \"submission5.csv\"\n",
        "submission.to_csv(final_submission, index=False)"
      ],
      "execution_count": 0,
      "outputs": []
    },
    {
      "cell_type": "code",
      "metadata": {
        "id": "pVKJFG6SVZDp",
        "colab_type": "code",
        "colab": {}
      },
      "source": [
        "from google.colab import files\n",
        "files.download(final_submission)"
      ],
      "execution_count": 0,
      "outputs": []
    },
    {
      "cell_type": "markdown",
      "metadata": {
        "id": "G4wEFQIKvKOO",
        "colab_type": "text"
      },
      "source": [
        "## **Visuals**"
      ]
    },
    {
      "cell_type": "markdown",
      "metadata": {
        "colab_type": "text",
        "id": "r3zTDHJC_B-0"
      },
      "source": [
        "### **Training Features, Training Labels and Test Features Data**"
      ]
    },
    {
      "cell_type": "code",
      "metadata": {
        "id": "6oAGBlbpBi87",
        "colab_type": "code",
        "colab": {}
      },
      "source": [
        "test_features = pd.read_csv('https://raw.githubusercontent.com/tbradshaw91/Predictive-Modeling-Sprint_Challenge/master/test_features.csv')\n",
        "train_features = pd.read_csv('https://raw.githubusercontent.com/tbradshaw91/Predictive-Modeling-Sprint_Challenge/master/train_features.csv')\n",
        "train_labels = pd.read_csv('https://raw.githubusercontent.com/tbradshaw91/Predictive-Modeling-Sprint_Challenge/master/train_labels.csv')"
      ],
      "execution_count": 0,
      "outputs": []
    },
    {
      "cell_type": "code",
      "metadata": {
        "id": "EnbID4J3BvwB",
        "colab_type": "code",
        "colab": {}
      },
      "source": [
        "df = pd.concat([train_features, train_labels], axis=1)"
      ],
      "execution_count": 0,
      "outputs": []
    },
    {
      "cell_type": "code",
      "metadata": {
        "id": "PsKaYAKpB-uH",
        "colab_type": "code",
        "colab": {}
      },
      "source": [
        "df = df.drop(df.columns[0], axis=1)"
      ],
      "execution_count": 0,
      "outputs": []
    },
    {
      "cell_type": "markdown",
      "metadata": {
        "id": "f2lZ2Uw3_hHk",
        "colab_type": "text"
      },
      "source": [
        "### Plot #1"
      ]
    },
    {
      "cell_type": "code",
      "metadata": {
        "id": "AGSTCrKHA751",
        "colab_type": "code",
        "outputId": "1df9fdac-9d69-4904-9f95-9dcb2c696edf",
        "colab": {
          "base_uri": "https://localhost:8080/",
          "height": 524
        }
      },
      "source": [
        "# Using the five thirty eight style\n",
        "# Little details\n",
        "plt.style.context('fivethirtyeight')\n",
        "colors = ['#fff100', '#ff8c00', '#e81123', '#ec008c', '#68217a','#00188f', '#00bcf2', '#00b294', '#009e49', '#bad80a']\n",
        "sns.set_palette(colors, 10)\n",
        "plt.figure(figsize=(15,8))\n",
        "\n",
        "# Setting plot and details\n",
        "ax = sns.countplot(x = \"status_group\", hue=\"basin\", data=df)\n",
        "ax.text(s=\"Tanzanian Water Pump Status Grouped By Basin\", y=6000, x=-0.5, fontsize=17, fontweight='semibold');\n",
        "ax.text(s=\"A Breakdown Of Pump Functionality Across The Basins\", y=5750, x=-0.5, fontsize=15, fontstyle='italic', color='gray')\n",
        "l = ax.legend()\n",
        "l.set_title('Basin')\n",
        "sns.despine(ax=ax, left=True)\n",
        "ax.set_ylabel(\"\");\n",
        "ax.set_xlabel(\"\");"
      ],
      "execution_count": 18,
      "outputs": [
        {
          "output_type": "display_data",
          "data": {
            "image/png": "[encoded data removed]",
            "text/plain": [
              "<Figure size 1080x576 with 1 Axes>"
            ]
          },
          "metadata": {
            "tags": []
          }
        }
      ]
    },
    {
      "cell_type": "markdown",
      "metadata": {
        "id": "2F-29DHiGH24",
        "colab_type": "text"
      },
      "source": [
        "### **Plot #2**"
      ]
    },
    {
      "cell_type": "code",
      "metadata": {
        "id": "6x7Yv5HZCJdw",
        "colab_type": "code",
        "outputId": "9a367dbb-2732-4436-e54e-9f2c55dfd184",
        "colab": {
          "base_uri": "https://localhost:8080/",
          "height": 531
        }
      },
      "source": [
        "# Using the five thirty eight style\n",
        "# Little details\n",
        "plt.style.context('fivethirtyeight')\n",
        "colors = ['#fff100', '#ff8c00', '#e81123', '#ec008c', '#68217a','#00188f', '#00bcf2', '#00b294', '#009e49', '#bad80a']\n",
        "sns.set_palette(colors, 10)\n",
        "plt.figure(figsize=(15,8))\n",
        "\n",
        "# Setting plot and details\n",
        "ax = sns.countplot(x = \"status_group\", hue=\"source_type\", data=df)\n",
        "ax.text(s=\"Tanzanian Water Pump Status Based On Water Source Type\", y=12000, x=-0.5, fontsize=17, fontweight='semibold');\n",
        "ax.text(s=\"Visualizing The Spread Of Water Sources vs Functionality\" , y=11500, x=-0.5, fontsize=15, fontstyle='italic', color='gray')\n",
        "l = ax.legend()\n",
        "l.set_title('Water Source Type')\n",
        "sns.despine(ax=ax, left=True)\n",
        "ax.set_ylabel(\"\");\n",
        "ax.set_xlabel(\"\");"
      ],
      "execution_count": 22,
      "outputs": [
        {
          "output_type": "display_data",
          "data": {
            "image/png": "[encoded data removed]",
            "text/plain": [
              "<Figure size 1080x576 with 1 Axes>"
            ]
          },
          "metadata": {
            "tags": []
          }
        }
      ]
    },
    {
      "cell_type": "markdown",
      "metadata": {
        "id": "jev5BKo6GW26",
        "colab_type": "text"
      },
      "source": [
        "### **Plot #3**"
      ]
    },
    {
      "cell_type": "code",
      "metadata": {
        "id": "gaXe-hCWCQcJ",
        "colab_type": "code",
        "outputId": "e74aae88-d625-4276-f7f1-4d527dd902df",
        "colab": {
          "base_uri": "https://localhost:8080/",
          "height": 521
        }
      },
      "source": [
        "# Using the five thirty eight style\n",
        "# Little details\n",
        "plt.style.context('fivethirtyeight')\n",
        "colors = ['#fff100', '#ff8c00', '#e81123', '#ec008c', '#68217a','#00188f', '#00bcf2', '#00b294', '#009e49', '#bad80a']\n",
        "sns.set_palette(colors, 10)\n",
        "plt.figure(figsize=(15,8))\n",
        "\n",
        "# Setting plot and details\n",
        "ax = sns.countplot(x = \"status_group\", hue=\"source_class\", data=df)\n",
        "ax.text(s=\"Tanzanian Water Pump Status Grouped By Groundwater, Surface & Unknown Water Sources\", y=27500, x=-0.5, fontsize=17, fontweight='semibold');\n",
        "ax.text(s=\"Overall, Groundwater Is The Most Popular Water Source, And Also The Most Functional\", y=26200, x=-0.5, fontsize=15, fontstyle='italic', color='gray')\n",
        "l = ax.legend()\n",
        "l.set_title('Water Source')\n",
        "sns.despine(ax=ax, left=True)\n",
        "ax.set_ylabel(\"\");\n",
        "ax.set_xlabel(\"\");"
      ],
      "execution_count": 23,
      "outputs": [
        {
          "output_type": "display_data",
          "data": {
            "image/png": "[encoded data removed]",
            "text/plain": [
              "<Figure size 1080x576 with 1 Axes>"
            ]
          },
          "metadata": {
            "tags": []
          }
        }
      ]
    },
    {
      "cell_type": "markdown",
      "metadata": {
        "id": "h_irJA8mG_k-",
        "colab_type": "text"
      },
      "source": [
        "## Factfulness: Are things really as bad as they seem? "
      ]
    },
    {
      "cell_type": "code",
      "metadata": {
        "id": "Ay33YVHACaop",
        "colab_type": "code",
        "outputId": "6f1bc833-13d0-40e7-c1cb-173135f4d0a1",
        "colab": {
          "base_uri": "https://localhost:8080/",
          "height": 102
        }
      },
      "source": [
        "# Classifying Construction Years \n",
        "new_construction_years = df[df.construction_year > 0]\n",
        "yr_list = new_construction_years.construction_year.unique().tolist()\n",
        "yr_list = sorted(yr_list, reverse=True)\n",
        "new_construction_years = new_construction_years.construction_year.value_counts(normalize=True).tolist()\n",
        "new_construction_years\n",
        "\n",
        "# Making selection\n",
        "selection = choice(yr_list, 20709, p=new_construction_years)\n",
        "df = df.sort_values('construction_year')\n",
        "df.construction_year[0:20709] = selection"
      ],
      "execution_count": 24,
      "outputs": [
        {
          "output_type": "stream",
          "text": [
            "/usr/local/lib/python3.6/dist-packages/ipykernel_launcher.py:10: SettingWithCopyWarning: \n",
            "A value is trying to be set on a copy of a slice from a DataFrame\n",
            "\n",
            "See the caveats in the documentation: http://pandas.pydata.org/pandas-docs/stable/indexing.html#indexing-view-versus-copy\n",
            "  # Remove the CWD from sys.path while we load stuff.\n"
          ],
          "name": "stderr"
        }
      ]
    },
    {
      "cell_type": "markdown",
      "metadata": {
        "id": "Dah7f4CGG7Ur",
        "colab_type": "text"
      },
      "source": [
        "### **Plot #4**"
      ]
    },
    {
      "cell_type": "code",
      "metadata": {
        "id": "MeJl9aMAJz0q",
        "colab_type": "code",
        "colab": {}
      },
      "source": [
        "# Binning\n",
        "df['construction_binning'] = pd.cut(df['construction_year'], bins=10)"
      ],
      "execution_count": 0,
      "outputs": []
    },
    {
      "cell_type": "code",
      "metadata": {
        "id": "4lT1lOs6Czv1",
        "colab_type": "code",
        "outputId": "dc73b04d-9bd6-4c3a-cc76-64abf07ed632",
        "colab": {
          "base_uri": "https://localhost:8080/",
          "height": 523
        }
      },
      "source": [
        "# Using the five thirty eight style\n",
        "# Little details\n",
        "plt.style.context('fivethirtyeight')\n",
        "colors = ['#fff100', '#ff8c00', '#e81123', '#ec008c', '#68217a','#00188f', '#00bcf2', '#00b294', '#009e49', '#bad80a']\n",
        "sns.set_palette(colors, 10)\n",
        "plt.figure(figsize=(15,8))\n",
        "\n",
        "# Setting plot and details\n",
        "ax = sns.countplot(x = \"status_group\", hue=\"construction_binning\", data=df);\n",
        "ax.text(s=\"What Is Being Done?\", y=12200, x=-0.5, fontsize=17, fontweight='semibold');\n",
        "ax.text(s=\"Within The Last 10 Years, Construction Has Practically Doubled\", y=11700, x=-0.5, fontsize=15, fontstyle='italic', color='gray')\n",
        "l = ax.legend()\n",
        "l.set_title('Construction Years Grouped')\n",
        "sns.despine(ax=ax, left=True)\n",
        "ax.set_ylabel(\"\");\n",
        "ax.set_xlabel(\"\");"
      ],
      "execution_count": 27,
      "outputs": [
        {
          "output_type": "display_data",
          "data": {
            "image/png": "[encoded data removed]",
            "text/plain": [
              "<Figure size 1080x576 with 1 Axes>"
            ]
          },
          "metadata": {
            "tags": []
          }
        }
      ]
    },
    {
      "cell_type": "markdown",
      "metadata": {
        "id": "P4VhnoiDHBgu",
        "colab_type": "text"
      },
      "source": [
        "### **Plot #5**"
      ]
    },
    {
      "cell_type": "code",
      "metadata": {
        "id": "BIB6Gj6-C5px",
        "colab_type": "code",
        "outputId": "60644b0c-15c8-4a22-cdcc-80e2e116d30f",
        "colab": {
          "base_uri": "https://localhost:8080/",
          "height": 534
        }
      },
      "source": [
        "# Using the five thirty eight style\n",
        "# Little details\n",
        "plt.style.context('fivethirtyeight')\n",
        "colors = ['#fff100', '#ff8c00', '#e81123', '#ec008c', '#68217a','#00188f', '#00bcf2', '#00b294', '#009e49', '#bad80a']\n",
        "sns.set_palette(colors, 10)\n",
        "plt.figure(figsize=(15,8))\n",
        "\n",
        "# Setting plot and details\n",
        "ax= sns.countplot(x = \"basin\", hue=\"construction_binning\", data=df)\n",
        "ax.text(s=\"Construction Years Per Basin\", y=3800, x=-0.5, fontsize=17, fontweight='semibold');\n",
        "ax.text(s=\"2007-2013 Have Been Incredible Years For Construction\", y=3650, x=-0.5, fontsize=15, fontstyle='italic', color='gray')\n",
        "l = ax.legend()\n",
        "l.set_title('Construction Years Grouped')\n",
        "sns.despine(ax=ax, left=True)\n",
        "ax.set_ylabel(\"\");\n",
        "ax.set_xlabel(\"\");"
      ],
      "execution_count": 31,
      "outputs": [
        {
          "output_type": "display_data",
          "data": {
            "image/png": "[encoded data removed]",
            "text/plain": [
              "<Figure size 1080x576 with 1 Axes>"
            ]
          },
          "metadata": {
            "tags": []
          }
        }
      ]
    },
    {
      "cell_type": "markdown",
      "metadata": {
        "id": "LrjrU45ltWFG",
        "colab_type": "text"
      },
      "source": [
        "\n",
        "\n",
        "---\n",
        "\n"
      ]
    }
  ]
}